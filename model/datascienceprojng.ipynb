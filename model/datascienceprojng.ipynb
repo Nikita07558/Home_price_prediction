{
  "metadata": {
    "kernelspec": {
      "name": "python",
      "display_name": "Python (Pyodide)",
      "language": "python"
    },
    "language_info": {
      "codemirror_mode": {
        "name": "python",
        "version": 3
      },
      "file_extension": ".py",
      "mimetype": "text/x-python",
      "name": "python",
      "nbconvert_exporter": "python",
      "pygments_lexer": "ipython3",
      "version": "3.8"
    }
  },
  "nbformat_minor": 5,
  "nbformat": 4,
  "cells": [
    {
      "id": "36365b04-053e-4896-9141-8a7a9b974b6f",
      "cell_type": "code",
      "source": "import pandas as pd\nimport numpy as np\nimport matplotlib\nfrom matplotlib import pyplot as plt\n%matplotlib inline\nmatplotlib.rcParams[\"figure.figsize\"]=(20,10)",
      "metadata": {
        "trusted": true
      },
      "outputs": [
        {
          "name": "stderr",
          "output_type": "stream",
          "text": "Matplotlib is building the font cache; this may take a moment.\n"
        }
      ],
      "execution_count": 2
    },
    {
      "id": "ae5e3e5a-79fe-4bee-b8f1-97bb2a785ec4",
      "cell_type": "code",
      "source": "df1=pd.read_csv(\"Bengaluru_House_Data.csv\")\ndf1.head()",
      "metadata": {
        "trusted": true
      },
      "outputs": [
        {
          "execution_count": 3,
          "output_type": "execute_result",
          "data": {
            "text/plain": "              area_type   availability                  location       size  \\\n0  Super built-up  Area         19-Dec  Electronic City Phase II      2 BHK   \n1            Plot  Area  Ready To Move          Chikka Tirupathi  4 Bedroom   \n2        Built-up  Area  Ready To Move               Uttarahalli      3 BHK   \n3  Super built-up  Area  Ready To Move        Lingadheeranahalli      3 BHK   \n4  Super built-up  Area  Ready To Move                  Kothanur      2 BHK   \n\n   society total_sqft  bath  balcony   price  \n0  Coomee        1056   2.0      1.0   39.07  \n1  Theanmp       2600   5.0      3.0  120.00  \n2      NaN       1440   2.0      3.0   62.00  \n3  Soiewre       1521   3.0      1.0   95.00  \n4      NaN       1200   2.0      1.0   51.00  ",
            "text/html": "<div>\n<style scoped>\n    .dataframe tbody tr th:only-of-type {\n        vertical-align: middle;\n    }\n\n    .dataframe tbody tr th {\n        vertical-align: top;\n    }\n\n    .dataframe thead th {\n        text-align: right;\n    }\n</style>\n<table border=\"1\" class=\"dataframe\">\n  <thead>\n    <tr style=\"text-align: right;\">\n      <th></th>\n      <th>area_type</th>\n      <th>availability</th>\n      <th>location</th>\n      <th>size</th>\n      <th>society</th>\n      <th>total_sqft</th>\n      <th>bath</th>\n      <th>balcony</th>\n      <th>price</th>\n    </tr>\n  </thead>\n  <tbody>\n    <tr>\n      <th>0</th>\n      <td>Super built-up  Area</td>\n      <td>19-Dec</td>\n      <td>Electronic City Phase II</td>\n      <td>2 BHK</td>\n      <td>Coomee</td>\n      <td>1056</td>\n      <td>2.0</td>\n      <td>1.0</td>\n      <td>39.07</td>\n    </tr>\n    <tr>\n      <th>1</th>\n      <td>Plot  Area</td>\n      <td>Ready To Move</td>\n      <td>Chikka Tirupathi</td>\n      <td>4 Bedroom</td>\n      <td>Theanmp</td>\n      <td>2600</td>\n      <td>5.0</td>\n      <td>3.0</td>\n      <td>120.00</td>\n    </tr>\n    <tr>\n      <th>2</th>\n      <td>Built-up  Area</td>\n      <td>Ready To Move</td>\n      <td>Uttarahalli</td>\n      <td>3 BHK</td>\n      <td>NaN</td>\n      <td>1440</td>\n      <td>2.0</td>\n      <td>3.0</td>\n      <td>62.00</td>\n    </tr>\n    <tr>\n      <th>3</th>\n      <td>Super built-up  Area</td>\n      <td>Ready To Move</td>\n      <td>Lingadheeranahalli</td>\n      <td>3 BHK</td>\n      <td>Soiewre</td>\n      <td>1521</td>\n      <td>3.0</td>\n      <td>1.0</td>\n      <td>95.00</td>\n    </tr>\n    <tr>\n      <th>4</th>\n      <td>Super built-up  Area</td>\n      <td>Ready To Move</td>\n      <td>Kothanur</td>\n      <td>2 BHK</td>\n      <td>NaN</td>\n      <td>1200</td>\n      <td>2.0</td>\n      <td>1.0</td>\n      <td>51.00</td>\n    </tr>\n  </tbody>\n</table>\n</div>"
          },
          "metadata": {}
        }
      ],
      "execution_count": 3
    },
    {
      "id": "6f612349-30db-4f2b-870b-7d64601a6082",
      "cell_type": "code",
      "source": "df1.isnull().sum()",
      "metadata": {
        "trusted": true
      },
      "outputs": [
        {
          "execution_count": 4,
          "output_type": "execute_result",
          "data": {
            "text/plain": "area_type          0\navailability       0\nlocation           1\nsize              16\nsociety         5502\ntotal_sqft         0\nbath              73\nbalcony          609\nprice              0\ndtype: int64"
          },
          "metadata": {}
        }
      ],
      "execution_count": 4
    },
    {
      "id": "5153185c-efbe-4d4a-8676-995aa10d4dde",
      "cell_type": "code",
      "source": "df1.shape",
      "metadata": {
        "trusted": true
      },
      "outputs": [
        {
          "execution_count": 5,
          "output_type": "execute_result",
          "data": {
            "text/plain": "(13320, 9)"
          },
          "metadata": {}
        }
      ],
      "execution_count": 5
    },
    {
      "id": "8d2c0fe5-0537-4b3e-a900-7fc759025151",
      "cell_type": "code",
      "source": "df1.describe()",
      "metadata": {
        "trusted": true
      },
      "outputs": [
        {
          "execution_count": 6,
          "output_type": "execute_result",
          "data": {
            "text/plain": "               bath       balcony         price\ncount  13247.000000  12711.000000  13320.000000\nmean       2.692610      1.584376    112.565627\nstd        1.341458      0.817263    148.971674\nmin        1.000000      0.000000      8.000000\n25%        2.000000      1.000000     50.000000\n50%        2.000000      2.000000     72.000000\n75%        3.000000      2.000000    120.000000\nmax       40.000000      3.000000   3600.000000",
            "text/html": "<div>\n<style scoped>\n    .dataframe tbody tr th:only-of-type {\n        vertical-align: middle;\n    }\n\n    .dataframe tbody tr th {\n        vertical-align: top;\n    }\n\n    .dataframe thead th {\n        text-align: right;\n    }\n</style>\n<table border=\"1\" class=\"dataframe\">\n  <thead>\n    <tr style=\"text-align: right;\">\n      <th></th>\n      <th>bath</th>\n      <th>balcony</th>\n      <th>price</th>\n    </tr>\n  </thead>\n  <tbody>\n    <tr>\n      <th>count</th>\n      <td>13247.000000</td>\n      <td>12711.000000</td>\n      <td>13320.000000</td>\n    </tr>\n    <tr>\n      <th>mean</th>\n      <td>2.692610</td>\n      <td>1.584376</td>\n      <td>112.565627</td>\n    </tr>\n    <tr>\n      <th>std</th>\n      <td>1.341458</td>\n      <td>0.817263</td>\n      <td>148.971674</td>\n    </tr>\n    <tr>\n      <th>min</th>\n      <td>1.000000</td>\n      <td>0.000000</td>\n      <td>8.000000</td>\n    </tr>\n    <tr>\n      <th>25%</th>\n      <td>2.000000</td>\n      <td>1.000000</td>\n      <td>50.000000</td>\n    </tr>\n    <tr>\n      <th>50%</th>\n      <td>2.000000</td>\n      <td>2.000000</td>\n      <td>72.000000</td>\n    </tr>\n    <tr>\n      <th>75%</th>\n      <td>3.000000</td>\n      <td>2.000000</td>\n      <td>120.000000</td>\n    </tr>\n    <tr>\n      <th>max</th>\n      <td>40.000000</td>\n      <td>3.000000</td>\n      <td>3600.000000</td>\n    </tr>\n  </tbody>\n</table>\n</div>"
          },
          "metadata": {}
        }
      ],
      "execution_count": 6
    },
    {
      "id": "a0454c78-293a-4abf-925f-4321081a859c",
      "cell_type": "code",
      "source": "df1.groupby('area_type').agg('count')",
      "metadata": {
        "trusted": true
      },
      "outputs": [
        {
          "execution_count": 7,
          "output_type": "execute_result",
          "data": {
            "text/plain": "                      availability  location  size  society  total_sqft  bath  \\\narea_type                                                                       \nBuilt-up  Area                2418      2418  2418     1215        2418  2410   \nCarpet  Area                    87        87    87       54          87    87   \nPlot  Area                    2025      2025  2009      311        2025  2009   \nSuper built-up  Area          8790      8789  8790     6238        8790  8741   \n\n                      balcony  price  \narea_type                             \nBuilt-up  Area           2310   2418  \nCarpet  Area               82     87  \nPlot  Area               1837   2025  \nSuper built-up  Area     8482   8790  ",
            "text/html": "<div>\n<style scoped>\n    .dataframe tbody tr th:only-of-type {\n        vertical-align: middle;\n    }\n\n    .dataframe tbody tr th {\n        vertical-align: top;\n    }\n\n    .dataframe thead th {\n        text-align: right;\n    }\n</style>\n<table border=\"1\" class=\"dataframe\">\n  <thead>\n    <tr style=\"text-align: right;\">\n      <th></th>\n      <th>availability</th>\n      <th>location</th>\n      <th>size</th>\n      <th>society</th>\n      <th>total_sqft</th>\n      <th>bath</th>\n      <th>balcony</th>\n      <th>price</th>\n    </tr>\n    <tr>\n      <th>area_type</th>\n      <th></th>\n      <th></th>\n      <th></th>\n      <th></th>\n      <th></th>\n      <th></th>\n      <th></th>\n      <th></th>\n    </tr>\n  </thead>\n  <tbody>\n    <tr>\n      <th>Built-up  Area</th>\n      <td>2418</td>\n      <td>2418</td>\n      <td>2418</td>\n      <td>1215</td>\n      <td>2418</td>\n      <td>2410</td>\n      <td>2310</td>\n      <td>2418</td>\n    </tr>\n    <tr>\n      <th>Carpet  Area</th>\n      <td>87</td>\n      <td>87</td>\n      <td>87</td>\n      <td>54</td>\n      <td>87</td>\n      <td>87</td>\n      <td>82</td>\n      <td>87</td>\n    </tr>\n    <tr>\n      <th>Plot  Area</th>\n      <td>2025</td>\n      <td>2025</td>\n      <td>2009</td>\n      <td>311</td>\n      <td>2025</td>\n      <td>2009</td>\n      <td>1837</td>\n      <td>2025</td>\n    </tr>\n    <tr>\n      <th>Super built-up  Area</th>\n      <td>8790</td>\n      <td>8789</td>\n      <td>8790</td>\n      <td>6238</td>\n      <td>8790</td>\n      <td>8741</td>\n      <td>8482</td>\n      <td>8790</td>\n    </tr>\n  </tbody>\n</table>\n</div>"
          },
          "metadata": {}
        }
      ],
      "execution_count": 7
    },
    {
      "id": "67dc7e17-f9ce-4e43-a61a-23de5fe97e8d",
      "cell_type": "code",
      "source": "df1.groupby('area_type')['area_type'].agg('count')",
      "metadata": {
        "trusted": true
      },
      "outputs": [
        {
          "execution_count": 8,
          "output_type": "execute_result",
          "data": {
            "text/plain": "area_type\nBuilt-up  Area          2418\nCarpet  Area              87\nPlot  Area              2025\nSuper built-up  Area    8790\nName: area_type, dtype: int64"
          },
          "metadata": {}
        }
      ],
      "execution_count": 8
    },
    {
      "id": "2b42b0f4-30ff-40dc-88b6-41341bc1b608",
      "cell_type": "code",
      "source": "column_name=df1.columns\nprint(column_name)",
      "metadata": {
        "trusted": true
      },
      "outputs": [
        {
          "name": "stdout",
          "output_type": "stream",
          "text": "Index(['area_type', 'availability', 'location', 'size', 'society',\n       'total_sqft', 'bath', 'balcony', 'price'],\n      dtype='object')\n"
        }
      ],
      "execution_count": 9
    },
    {
      "id": "29905ec8-67d2-458b-adbb-69026f76aca9",
      "cell_type": "code",
      "source": "df2=df1.drop(['area_type','availability','society','balcony'],axis='columns')",
      "metadata": {
        "trusted": true
      },
      "outputs": [],
      "execution_count": 10
    },
    {
      "id": "9b54e815-ca3f-486c-a17b-7998af6dbf7e",
      "cell_type": "code",
      "source": "df2.head()",
      "metadata": {
        "trusted": true
      },
      "outputs": [
        {
          "execution_count": 11,
          "output_type": "execute_result",
          "data": {
            "text/plain": "                   location       size total_sqft  bath   price\n0  Electronic City Phase II      2 BHK       1056   2.0   39.07\n1          Chikka Tirupathi  4 Bedroom       2600   5.0  120.00\n2               Uttarahalli      3 BHK       1440   2.0   62.00\n3        Lingadheeranahalli      3 BHK       1521   3.0   95.00\n4                  Kothanur      2 BHK       1200   2.0   51.00",
            "text/html": "<div>\n<style scoped>\n    .dataframe tbody tr th:only-of-type {\n        vertical-align: middle;\n    }\n\n    .dataframe tbody tr th {\n        vertical-align: top;\n    }\n\n    .dataframe thead th {\n        text-align: right;\n    }\n</style>\n<table border=\"1\" class=\"dataframe\">\n  <thead>\n    <tr style=\"text-align: right;\">\n      <th></th>\n      <th>location</th>\n      <th>size</th>\n      <th>total_sqft</th>\n      <th>bath</th>\n      <th>price</th>\n    </tr>\n  </thead>\n  <tbody>\n    <tr>\n      <th>0</th>\n      <td>Electronic City Phase II</td>\n      <td>2 BHK</td>\n      <td>1056</td>\n      <td>2.0</td>\n      <td>39.07</td>\n    </tr>\n    <tr>\n      <th>1</th>\n      <td>Chikka Tirupathi</td>\n      <td>4 Bedroom</td>\n      <td>2600</td>\n      <td>5.0</td>\n      <td>120.00</td>\n    </tr>\n    <tr>\n      <th>2</th>\n      <td>Uttarahalli</td>\n      <td>3 BHK</td>\n      <td>1440</td>\n      <td>2.0</td>\n      <td>62.00</td>\n    </tr>\n    <tr>\n      <th>3</th>\n      <td>Lingadheeranahalli</td>\n      <td>3 BHK</td>\n      <td>1521</td>\n      <td>3.0</td>\n      <td>95.00</td>\n    </tr>\n    <tr>\n      <th>4</th>\n      <td>Kothanur</td>\n      <td>2 BHK</td>\n      <td>1200</td>\n      <td>2.0</td>\n      <td>51.00</td>\n    </tr>\n  </tbody>\n</table>\n</div>"
          },
          "metadata": {}
        }
      ],
      "execution_count": 11
    },
    {
      "id": "e575baaf-ba27-44e2-a694-adec2cb35064",
      "cell_type": "code",
      "source": "df2.isnull().sum()",
      "metadata": {
        "trusted": true
      },
      "outputs": [
        {
          "execution_count": 12,
          "output_type": "execute_result",
          "data": {
            "text/plain": "location       1\nsize          16\ntotal_sqft     0\nbath          73\nprice          0\ndtype: int64"
          },
          "metadata": {}
        }
      ],
      "execution_count": 12
    },
    {
      "id": "0d7c39e0-2f8c-4f0a-9b71-bf89babb6e5f",
      "cell_type": "code",
      "source": "df3=df2.dropna() #this rops the null vali rows poori\ndf2.shape\n",
      "metadata": {
        "trusted": true
      },
      "outputs": [
        {
          "execution_count": 13,
          "output_type": "execute_result",
          "data": {
            "text/plain": "(13320, 5)"
          },
          "metadata": {}
        }
      ],
      "execution_count": 13
    },
    {
      "id": "4f09ba53-9d03-419b-a5f6-19e08f30e679",
      "cell_type": "code",
      "source": "df3.shape",
      "metadata": {
        "trusted": true
      },
      "outputs": [
        {
          "execution_count": 14,
          "output_type": "execute_result",
          "data": {
            "text/plain": "(13246, 5)"
          },
          "metadata": {}
        }
      ],
      "execution_count": 14
    },
    {
      "id": "bbb0030b-5bc3-432f-acf2-d264545c4c50",
      "cell_type": "code",
      "source": "df3.isnull().sum()",
      "metadata": {
        "trusted": true
      },
      "outputs": [
        {
          "execution_count": 15,
          "output_type": "execute_result",
          "data": {
            "text/plain": "location      0\nsize          0\ntotal_sqft    0\nbath          0\nprice         0\ndtype: int64"
          },
          "metadata": {}
        }
      ],
      "execution_count": 15
    },
    {
      "id": "4a30bc7c-6633-46fb-abe2-ef57d513e082",
      "cell_type": "code",
      "source": "df3['size'].unique()",
      "metadata": {
        "trusted": true
      },
      "outputs": [
        {
          "execution_count": 16,
          "output_type": "execute_result",
          "data": {
            "text/plain": "array(['2 BHK', '4 Bedroom', '3 BHK', '4 BHK', '6 Bedroom', '3 Bedroom',\n       '1 BHK', '1 RK', '1 Bedroom', '8 Bedroom', '2 Bedroom',\n       '7 Bedroom', '5 BHK', '7 BHK', '6 BHK', '5 Bedroom', '11 BHK',\n       '9 BHK', '9 Bedroom', '27 BHK', '10 Bedroom', '11 Bedroom',\n       '10 BHK', '19 BHK', '16 BHK', '43 Bedroom', '14 BHK', '8 BHK',\n       '12 Bedroom', '13 BHK', '18 Bedroom'], dtype=object)"
          },
          "metadata": {}
        }
      ],
      "execution_count": 16
    },
    {
      "id": "62b3cea4-f61d-4a28-bf93-9d4e05217c34",
      "cell_type": "code",
      "source": "df3['bhk']=df3['size'].apply(lambda x: int(x.split(' ')[0]))",
      "metadata": {
        "trusted": true
      },
      "outputs": [
        {
          "name": "stderr",
          "output_type": "stream",
          "text": "<ipython-input-17-c379116b8702>:1: SettingWithCopyWarning: \nA value is trying to be set on a copy of a slice from a DataFrame.\nTry using .loc[row_indexer,col_indexer] = value instead\n\nSee the caveats in the documentation: https://pandas.pydata.org/pandas-docs/stable/user_guide/indexing.html#returning-a-view-versus-a-copy\n  df3['bhk']=df3['size'].apply(lambda x: int(x.split(' ')[0]))\n"
        }
      ],
      "execution_count": 17
    },
    {
      "id": "40fbdc28-b90a-4ccd-9216-96c2bf91bce8",
      "cell_type": "code",
      "source": "df3.head()",
      "metadata": {
        "trusted": true
      },
      "outputs": [
        {
          "execution_count": 18,
          "output_type": "execute_result",
          "data": {
            "text/plain": "                   location       size total_sqft  bath   price  bhk\n0  Electronic City Phase II      2 BHK       1056   2.0   39.07    2\n1          Chikka Tirupathi  4 Bedroom       2600   5.0  120.00    4\n2               Uttarahalli      3 BHK       1440   2.0   62.00    3\n3        Lingadheeranahalli      3 BHK       1521   3.0   95.00    3\n4                  Kothanur      2 BHK       1200   2.0   51.00    2",
            "text/html": "<div>\n<style scoped>\n    .dataframe tbody tr th:only-of-type {\n        vertical-align: middle;\n    }\n\n    .dataframe tbody tr th {\n        vertical-align: top;\n    }\n\n    .dataframe thead th {\n        text-align: right;\n    }\n</style>\n<table border=\"1\" class=\"dataframe\">\n  <thead>\n    <tr style=\"text-align: right;\">\n      <th></th>\n      <th>location</th>\n      <th>size</th>\n      <th>total_sqft</th>\n      <th>bath</th>\n      <th>price</th>\n      <th>bhk</th>\n    </tr>\n  </thead>\n  <tbody>\n    <tr>\n      <th>0</th>\n      <td>Electronic City Phase II</td>\n      <td>2 BHK</td>\n      <td>1056</td>\n      <td>2.0</td>\n      <td>39.07</td>\n      <td>2</td>\n    </tr>\n    <tr>\n      <th>1</th>\n      <td>Chikka Tirupathi</td>\n      <td>4 Bedroom</td>\n      <td>2600</td>\n      <td>5.0</td>\n      <td>120.00</td>\n      <td>4</td>\n    </tr>\n    <tr>\n      <th>2</th>\n      <td>Uttarahalli</td>\n      <td>3 BHK</td>\n      <td>1440</td>\n      <td>2.0</td>\n      <td>62.00</td>\n      <td>3</td>\n    </tr>\n    <tr>\n      <th>3</th>\n      <td>Lingadheeranahalli</td>\n      <td>3 BHK</td>\n      <td>1521</td>\n      <td>3.0</td>\n      <td>95.00</td>\n      <td>3</td>\n    </tr>\n    <tr>\n      <th>4</th>\n      <td>Kothanur</td>\n      <td>2 BHK</td>\n      <td>1200</td>\n      <td>2.0</td>\n      <td>51.00</td>\n      <td>2</td>\n    </tr>\n  </tbody>\n</table>\n</div>"
          },
          "metadata": {}
        }
      ],
      "execution_count": 18
    },
    {
      "id": "10a32ad8-d830-4a3f-87e4-192589bb9b16",
      "cell_type": "code",
      "source": "df3.dtypes",
      "metadata": {
        "trusted": true
      },
      "outputs": [
        {
          "execution_count": 19,
          "output_type": "execute_result",
          "data": {
            "text/plain": "location       object\nsize           object\ntotal_sqft     object\nbath          float64\nprice         float64\nbhk             int64\ndtype: object"
          },
          "metadata": {}
        }
      ],
      "execution_count": 19
    },
    {
      "id": "c04a6e14-d9d3-43c8-9764-32486bd97d84",
      "cell_type": "code",
      "source": "df3.bhk.unique()",
      "metadata": {
        "trusted": true
      },
      "outputs": [
        {
          "execution_count": 20,
          "output_type": "execute_result",
          "data": {
            "text/plain": "array([ 2,  4,  3,  6,  1,  8,  7,  5, 11,  9, 27, 10, 19, 16, 43, 14, 12,\n       13, 18], dtype=int64)"
          },
          "metadata": {}
        }
      ],
      "execution_count": 20
    },
    {
      "id": "48572534-baad-4391-a746-6f32a3745431",
      "cell_type": "code",
      "source": "df3[(df3.bhk) >20]",
      "metadata": {
        "trusted": true
      },
      "outputs": [
        {
          "execution_count": 21,
          "output_type": "execute_result",
          "data": {
            "text/plain": "                       location        size total_sqft  bath  price  bhk\n1718  2Electronic City Phase II      27 BHK       8000  27.0  230.0   27\n4684                Munnekollal  43 Bedroom       2400  40.0  660.0   43",
            "text/html": "<div>\n<style scoped>\n    .dataframe tbody tr th:only-of-type {\n        vertical-align: middle;\n    }\n\n    .dataframe tbody tr th {\n        vertical-align: top;\n    }\n\n    .dataframe thead th {\n        text-align: right;\n    }\n</style>\n<table border=\"1\" class=\"dataframe\">\n  <thead>\n    <tr style=\"text-align: right;\">\n      <th></th>\n      <th>location</th>\n      <th>size</th>\n      <th>total_sqft</th>\n      <th>bath</th>\n      <th>price</th>\n      <th>bhk</th>\n    </tr>\n  </thead>\n  <tbody>\n    <tr>\n      <th>1718</th>\n      <td>2Electronic City Phase II</td>\n      <td>27 BHK</td>\n      <td>8000</td>\n      <td>27.0</td>\n      <td>230.0</td>\n      <td>27</td>\n    </tr>\n    <tr>\n      <th>4684</th>\n      <td>Munnekollal</td>\n      <td>43 Bedroom</td>\n      <td>2400</td>\n      <td>40.0</td>\n      <td>660.0</td>\n      <td>43</td>\n    </tr>\n  </tbody>\n</table>\n</div>"
          },
          "metadata": {}
        }
      ],
      "execution_count": 21
    },
    {
      "id": "4ec045f2-cbdf-4d16-81d3-21a5eb5272e6",
      "cell_type": "code",
      "source": "df3.total_sqft.unique()",
      "metadata": {
        "trusted": true
      },
      "outputs": [
        {
          "execution_count": 22,
          "output_type": "execute_result",
          "data": {
            "text/plain": "array(['1056', '2600', '1440', ..., '1133 - 1384', '774', '4689'],\n      dtype=object)"
          },
          "metadata": {}
        }
      ],
      "execution_count": 22
    },
    {
      "id": "e8d72c65-c626-4b30-9ea5-2357c3b3d630",
      "cell_type": "code",
      "source": "def is_float(x):\n    try:\n       float(x)\n    except:\n       return False\n    return True",
      "metadata": {
        "trusted": true
      },
      "outputs": [],
      "execution_count": 23
    },
    {
      "id": "3714141e-0446-4efc-8127-e86e12fc96e3",
      "cell_type": "code",
      "source": "df3['total_sqft'].apply(is_float)",
      "metadata": {
        "trusted": true
      },
      "outputs": [
        {
          "execution_count": 24,
          "output_type": "execute_result",
          "data": {
            "text/plain": "0        True\n1        True\n2        True\n3        True\n4        True\n         ... \n13315    True\n13316    True\n13317    True\n13318    True\n13319    True\nName: total_sqft, Length: 13246, dtype: bool"
          },
          "metadata": {}
        }
      ],
      "execution_count": 24
    },
    {
      "id": "a113cb0b-875a-43f2-9ed0-32068af1d3ee",
      "cell_type": "code",
      "source": "df3[~df3['total_sqft'].apply(is_float)]  #false vale chaiye hme which are not float",
      "metadata": {
        "trusted": true
      },
      "outputs": [
        {
          "execution_count": 25,
          "output_type": "execute_result",
          "data": {
            "text/plain": "                 location   size   total_sqft  bath    price  bhk\n30              Yelahanka  4 BHK  2100 - 2850   4.0  186.000    4\n122                Hebbal  4 BHK  3067 - 8156   4.0  477.000    4\n137    8th Phase JP Nagar  2 BHK  1042 - 1105   2.0   54.005    2\n165              Sarjapur  2 BHK  1145 - 1340   2.0   43.490    2\n188              KR Puram  2 BHK  1015 - 1540   2.0   56.800    2\n...                   ...    ...          ...   ...      ...  ...\n12975          Whitefield  2 BHK   850 - 1060   2.0   38.190    2\n12990      Talaghattapura  3 BHK  1804 - 2273   3.0  122.000    3\n13059              Harlur  2 BHK  1200 - 1470   2.0   72.760    2\n13265               Hoodi  2 BHK  1133 - 1384   2.0   59.135    2\n13299          Whitefield  4 BHK  2830 - 2882   5.0  154.500    4\n\n[190 rows x 6 columns]",
            "text/html": "<div>\n<style scoped>\n    .dataframe tbody tr th:only-of-type {\n        vertical-align: middle;\n    }\n\n    .dataframe tbody tr th {\n        vertical-align: top;\n    }\n\n    .dataframe thead th {\n        text-align: right;\n    }\n</style>\n<table border=\"1\" class=\"dataframe\">\n  <thead>\n    <tr style=\"text-align: right;\">\n      <th></th>\n      <th>location</th>\n      <th>size</th>\n      <th>total_sqft</th>\n      <th>bath</th>\n      <th>price</th>\n      <th>bhk</th>\n    </tr>\n  </thead>\n  <tbody>\n    <tr>\n      <th>30</th>\n      <td>Yelahanka</td>\n      <td>4 BHK</td>\n      <td>2100 - 2850</td>\n      <td>4.0</td>\n      <td>186.000</td>\n      <td>4</td>\n    </tr>\n    <tr>\n      <th>122</th>\n      <td>Hebbal</td>\n      <td>4 BHK</td>\n      <td>3067 - 8156</td>\n      <td>4.0</td>\n      <td>477.000</td>\n      <td>4</td>\n    </tr>\n    <tr>\n      <th>137</th>\n      <td>8th Phase JP Nagar</td>\n      <td>2 BHK</td>\n      <td>1042 - 1105</td>\n      <td>2.0</td>\n      <td>54.005</td>\n      <td>2</td>\n    </tr>\n    <tr>\n      <th>165</th>\n      <td>Sarjapur</td>\n      <td>2 BHK</td>\n      <td>1145 - 1340</td>\n      <td>2.0</td>\n      <td>43.490</td>\n      <td>2</td>\n    </tr>\n    <tr>\n      <th>188</th>\n      <td>KR Puram</td>\n      <td>2 BHK</td>\n      <td>1015 - 1540</td>\n      <td>2.0</td>\n      <td>56.800</td>\n      <td>2</td>\n    </tr>\n    <tr>\n      <th>...</th>\n      <td>...</td>\n      <td>...</td>\n      <td>...</td>\n      <td>...</td>\n      <td>...</td>\n      <td>...</td>\n    </tr>\n    <tr>\n      <th>12975</th>\n      <td>Whitefield</td>\n      <td>2 BHK</td>\n      <td>850 - 1060</td>\n      <td>2.0</td>\n      <td>38.190</td>\n      <td>2</td>\n    </tr>\n    <tr>\n      <th>12990</th>\n      <td>Talaghattapura</td>\n      <td>3 BHK</td>\n      <td>1804 - 2273</td>\n      <td>3.0</td>\n      <td>122.000</td>\n      <td>3</td>\n    </tr>\n    <tr>\n      <th>13059</th>\n      <td>Harlur</td>\n      <td>2 BHK</td>\n      <td>1200 - 1470</td>\n      <td>2.0</td>\n      <td>72.760</td>\n      <td>2</td>\n    </tr>\n    <tr>\n      <th>13265</th>\n      <td>Hoodi</td>\n      <td>2 BHK</td>\n      <td>1133 - 1384</td>\n      <td>2.0</td>\n      <td>59.135</td>\n      <td>2</td>\n    </tr>\n    <tr>\n      <th>13299</th>\n      <td>Whitefield</td>\n      <td>4 BHK</td>\n      <td>2830 - 2882</td>\n      <td>5.0</td>\n      <td>154.500</td>\n      <td>4</td>\n    </tr>\n  </tbody>\n</table>\n<p>190 rows × 6 columns</p>\n</div>"
          },
          "metadata": {}
        }
      ],
      "execution_count": 25
    },
    {
      "id": "91d45fc8-0b13-4ad9-9231-68ab700947a9",
      "cell_type": "code",
      "source": "def convert_sqft_to_num(x):\n    token=x.split('-')\n    if len(token) == 2:\n        return (float(token[0])+float(token[1]))//2\n    try :\n        return float(x)\n    except:\n        return None",
      "metadata": {
        "trusted": true
      },
      "outputs": [],
      "execution_count": 26
    },
    {
      "id": "1631f69a-c8d8-4f59-8a57-3e5cbdfbf3b4",
      "cell_type": "code",
      "source": "convert_sqft_to_num('2765')",
      "metadata": {
        "trusted": true
      },
      "outputs": [
        {
          "execution_count": 27,
          "output_type": "execute_result",
          "data": {
            "text/plain": "2765.0"
          },
          "metadata": {}
        }
      ],
      "execution_count": 27
    },
    {
      "id": "1c3957ac-5bca-48ed-8826-fe32d899634f",
      "cell_type": "code",
      "source": "convert_sqft_to_num('1200 - 1470')",
      "metadata": {
        "trusted": true
      },
      "outputs": [
        {
          "execution_count": 28,
          "output_type": "execute_result",
          "data": {
            "text/plain": "1335.0"
          },
          "metadata": {}
        }
      ],
      "execution_count": 28
    },
    {
      "id": "c3a30d45-d5d2-4cb1-8464-00c6c06e2581",
      "cell_type": "code",
      "source": "df4=df3.copy()\ndf4['total_sqft']=df4['total_sqft'].apply(convert_sqft_to_num)\ndf4.head()",
      "metadata": {
        "trusted": true
      },
      "outputs": [
        {
          "execution_count": 29,
          "output_type": "execute_result",
          "data": {
            "text/plain": "                   location       size  total_sqft  bath   price  bhk\n0  Electronic City Phase II      2 BHK      1056.0   2.0   39.07    2\n1          Chikka Tirupathi  4 Bedroom      2600.0   5.0  120.00    4\n2               Uttarahalli      3 BHK      1440.0   2.0   62.00    3\n3        Lingadheeranahalli      3 BHK      1521.0   3.0   95.00    3\n4                  Kothanur      2 BHK      1200.0   2.0   51.00    2",
            "text/html": "<div>\n<style scoped>\n    .dataframe tbody tr th:only-of-type {\n        vertical-align: middle;\n    }\n\n    .dataframe tbody tr th {\n        vertical-align: top;\n    }\n\n    .dataframe thead th {\n        text-align: right;\n    }\n</style>\n<table border=\"1\" class=\"dataframe\">\n  <thead>\n    <tr style=\"text-align: right;\">\n      <th></th>\n      <th>location</th>\n      <th>size</th>\n      <th>total_sqft</th>\n      <th>bath</th>\n      <th>price</th>\n      <th>bhk</th>\n    </tr>\n  </thead>\n  <tbody>\n    <tr>\n      <th>0</th>\n      <td>Electronic City Phase II</td>\n      <td>2 BHK</td>\n      <td>1056.0</td>\n      <td>2.0</td>\n      <td>39.07</td>\n      <td>2</td>\n    </tr>\n    <tr>\n      <th>1</th>\n      <td>Chikka Tirupathi</td>\n      <td>4 Bedroom</td>\n      <td>2600.0</td>\n      <td>5.0</td>\n      <td>120.00</td>\n      <td>4</td>\n    </tr>\n    <tr>\n      <th>2</th>\n      <td>Uttarahalli</td>\n      <td>3 BHK</td>\n      <td>1440.0</td>\n      <td>2.0</td>\n      <td>62.00</td>\n      <td>3</td>\n    </tr>\n    <tr>\n      <th>3</th>\n      <td>Lingadheeranahalli</td>\n      <td>3 BHK</td>\n      <td>1521.0</td>\n      <td>3.0</td>\n      <td>95.00</td>\n      <td>3</td>\n    </tr>\n    <tr>\n      <th>4</th>\n      <td>Kothanur</td>\n      <td>2 BHK</td>\n      <td>1200.0</td>\n      <td>2.0</td>\n      <td>51.00</td>\n      <td>2</td>\n    </tr>\n  </tbody>\n</table>\n</div>"
          },
          "metadata": {}
        }
      ],
      "execution_count": 29
    },
    {
      "id": "907f0fcb-c2ec-4615-9356-acb67910cc20",
      "cell_type": "code",
      "source": "df4[~df4['total_sqft'].apply(is_float)]",
      "metadata": {
        "trusted": true
      },
      "outputs": [
        {
          "execution_count": 30,
          "output_type": "execute_result",
          "data": {
            "text/plain": "Empty DataFrame\nColumns: [location, size, total_sqft, bath, price, bhk]\nIndex: []",
            "text/html": "<div>\n<style scoped>\n    .dataframe tbody tr th:only-of-type {\n        vertical-align: middle;\n    }\n\n    .dataframe tbody tr th {\n        vertical-align: top;\n    }\n\n    .dataframe thead th {\n        text-align: right;\n    }\n</style>\n<table border=\"1\" class=\"dataframe\">\n  <thead>\n    <tr style=\"text-align: right;\">\n      <th></th>\n      <th>location</th>\n      <th>size</th>\n      <th>total_sqft</th>\n      <th>bath</th>\n      <th>price</th>\n      <th>bhk</th>\n    </tr>\n  </thead>\n  <tbody>\n  </tbody>\n</table>\n</div>"
          },
          "metadata": {}
        }
      ],
      "execution_count": 30
    },
    {
      "id": "e2293e64-339a-4841-89ef-267a93c577e3",
      "cell_type": "code",
      "source": "df4.loc[30]",
      "metadata": {
        "trusted": true
      },
      "outputs": [
        {
          "execution_count": 31,
          "output_type": "execute_result",
          "data": {
            "text/plain": "location      Yelahanka\nsize              4 BHK\ntotal_sqft       2475.0\nbath                4.0\nprice             186.0\nbhk                   4\nName: 30, dtype: object"
          },
          "metadata": {}
        }
      ],
      "execution_count": 31
    },
    {
      "id": "42941a70-e5da-4b65-b138-7472014fe6f3",
      "cell_type": "code",
      "source": "df4.head()",
      "metadata": {
        "trusted": true
      },
      "outputs": [
        {
          "execution_count": 32,
          "output_type": "execute_result",
          "data": {
            "text/plain": "                   location       size  total_sqft  bath   price  bhk\n0  Electronic City Phase II      2 BHK      1056.0   2.0   39.07    2\n1          Chikka Tirupathi  4 Bedroom      2600.0   5.0  120.00    4\n2               Uttarahalli      3 BHK      1440.0   2.0   62.00    3\n3        Lingadheeranahalli      3 BHK      1521.0   3.0   95.00    3\n4                  Kothanur      2 BHK      1200.0   2.0   51.00    2",
            "text/html": "<div>\n<style scoped>\n    .dataframe tbody tr th:only-of-type {\n        vertical-align: middle;\n    }\n\n    .dataframe tbody tr th {\n        vertical-align: top;\n    }\n\n    .dataframe thead th {\n        text-align: right;\n    }\n</style>\n<table border=\"1\" class=\"dataframe\">\n  <thead>\n    <tr style=\"text-align: right;\">\n      <th></th>\n      <th>location</th>\n      <th>size</th>\n      <th>total_sqft</th>\n      <th>bath</th>\n      <th>price</th>\n      <th>bhk</th>\n    </tr>\n  </thead>\n  <tbody>\n    <tr>\n      <th>0</th>\n      <td>Electronic City Phase II</td>\n      <td>2 BHK</td>\n      <td>1056.0</td>\n      <td>2.0</td>\n      <td>39.07</td>\n      <td>2</td>\n    </tr>\n    <tr>\n      <th>1</th>\n      <td>Chikka Tirupathi</td>\n      <td>4 Bedroom</td>\n      <td>2600.0</td>\n      <td>5.0</td>\n      <td>120.00</td>\n      <td>4</td>\n    </tr>\n    <tr>\n      <th>2</th>\n      <td>Uttarahalli</td>\n      <td>3 BHK</td>\n      <td>1440.0</td>\n      <td>2.0</td>\n      <td>62.00</td>\n      <td>3</td>\n    </tr>\n    <tr>\n      <th>3</th>\n      <td>Lingadheeranahalli</td>\n      <td>3 BHK</td>\n      <td>1521.0</td>\n      <td>3.0</td>\n      <td>95.00</td>\n      <td>3</td>\n    </tr>\n    <tr>\n      <th>4</th>\n      <td>Kothanur</td>\n      <td>2 BHK</td>\n      <td>1200.0</td>\n      <td>2.0</td>\n      <td>51.00</td>\n      <td>2</td>\n    </tr>\n  </tbody>\n</table>\n</div>"
          },
          "metadata": {}
        }
      ],
      "execution_count": 32
    },
    {
      "id": "3ae19ff0-5a67-4818-98f6-5f07b3cf8ffb",
      "cell_type": "code",
      "source": "df5=df4.copy()\ndf5['location'].unique()",
      "metadata": {
        "trusted": true
      },
      "outputs": [
        {
          "execution_count": 33,
          "output_type": "execute_result",
          "data": {
            "text/plain": "array(['Electronic City Phase II', 'Chikka Tirupathi', 'Uttarahalli', ...,\n       '12th cross srinivas nagar banshankari 3rd stage',\n       'Havanur extension', 'Abshot Layout'], dtype=object)"
          },
          "metadata": {}
        }
      ],
      "execution_count": 33
    },
    {
      "id": "4fe160c1-5434-46c0-9e29-4670069e5796",
      "cell_type": "code",
      "source": "len(df5['location'].unique())",
      "metadata": {
        "trusted": true
      },
      "outputs": [
        {
          "execution_count": 34,
          "output_type": "execute_result",
          "data": {
            "text/plain": "1304"
          },
          "metadata": {}
        }
      ],
      "execution_count": 34
    },
    {
      "id": "ffb8fea2-a3dc-4541-b329-fb10cc7eddce",
      "cell_type": "code",
      "source": "df5['price_per_sqft']=df5['price']*100000/df5['total_sqft']\ndf5.head()",
      "metadata": {
        "trusted": true
      },
      "outputs": [
        {
          "execution_count": 35,
          "output_type": "execute_result",
          "data": {
            "text/plain": "                   location       size  total_sqft  bath   price  bhk  \\\n0  Electronic City Phase II      2 BHK      1056.0   2.0   39.07    2   \n1          Chikka Tirupathi  4 Bedroom      2600.0   5.0  120.00    4   \n2               Uttarahalli      3 BHK      1440.0   2.0   62.00    3   \n3        Lingadheeranahalli      3 BHK      1521.0   3.0   95.00    3   \n4                  Kothanur      2 BHK      1200.0   2.0   51.00    2   \n\n   price_per_sqft  \n0     3699.810606  \n1     4615.384615  \n2     4305.555556  \n3     6245.890861  \n4     4250.000000  ",
            "text/html": "<div>\n<style scoped>\n    .dataframe tbody tr th:only-of-type {\n        vertical-align: middle;\n    }\n\n    .dataframe tbody tr th {\n        vertical-align: top;\n    }\n\n    .dataframe thead th {\n        text-align: right;\n    }\n</style>\n<table border=\"1\" class=\"dataframe\">\n  <thead>\n    <tr style=\"text-align: right;\">\n      <th></th>\n      <th>location</th>\n      <th>size</th>\n      <th>total_sqft</th>\n      <th>bath</th>\n      <th>price</th>\n      <th>bhk</th>\n      <th>price_per_sqft</th>\n    </tr>\n  </thead>\n  <tbody>\n    <tr>\n      <th>0</th>\n      <td>Electronic City Phase II</td>\n      <td>2 BHK</td>\n      <td>1056.0</td>\n      <td>2.0</td>\n      <td>39.07</td>\n      <td>2</td>\n      <td>3699.810606</td>\n    </tr>\n    <tr>\n      <th>1</th>\n      <td>Chikka Tirupathi</td>\n      <td>4 Bedroom</td>\n      <td>2600.0</td>\n      <td>5.0</td>\n      <td>120.00</td>\n      <td>4</td>\n      <td>4615.384615</td>\n    </tr>\n    <tr>\n      <th>2</th>\n      <td>Uttarahalli</td>\n      <td>3 BHK</td>\n      <td>1440.0</td>\n      <td>2.0</td>\n      <td>62.00</td>\n      <td>3</td>\n      <td>4305.555556</td>\n    </tr>\n    <tr>\n      <th>3</th>\n      <td>Lingadheeranahalli</td>\n      <td>3 BHK</td>\n      <td>1521.0</td>\n      <td>3.0</td>\n      <td>95.00</td>\n      <td>3</td>\n      <td>6245.890861</td>\n    </tr>\n    <tr>\n      <th>4</th>\n      <td>Kothanur</td>\n      <td>2 BHK</td>\n      <td>1200.0</td>\n      <td>2.0</td>\n      <td>51.00</td>\n      <td>2</td>\n      <td>4250.000000</td>\n    </tr>\n  </tbody>\n</table>\n</div>"
          },
          "metadata": {}
        }
      ],
      "execution_count": 35
    },
    {
      "id": "e740992b-fb26-4421-8da5-cfb83714df1f",
      "cell_type": "code",
      "source": "df5.location=df5.location.apply(lambda x: x.strip()) #strip is to remove white space\n\nlocation_stats=df5.groupby('location')['location'].agg('count').sort_values(ascending=False)\nprint(location_stats)",
      "metadata": {
        "trusted": true
      },
      "outputs": [
        {
          "name": "stdout",
          "output_type": "stream",
          "text": "location\nWhitefield               535\nSarjapur  Road           392\nElectronic City          304\nKanakpura Road           266\nThanisandra              236\n                        ... \n1 Giri Nagar               1\nKanakapura Road,           1\nKanakapura main  Road      1\nKarnataka Shabarimala      1\nwhitefiled                 1\nName: location, Length: 1293, dtype: int64\n"
        }
      ],
      "execution_count": 36
    },
    {
      "id": "39347c0b-06b7-49c0-a01b-3942cc5dc199",
      "cell_type": "code",
      "source": "len(location_stats[location_stats<=10])",
      "metadata": {
        "trusted": true
      },
      "outputs": [
        {
          "execution_count": 37,
          "output_type": "execute_result",
          "data": {
            "text/plain": "1052"
          },
          "metadata": {}
        }
      ],
      "execution_count": 37
    },
    {
      "id": "c74180de-6198-4801-809b-074c5b3a39f4",
      "cell_type": "code",
      "source": "location_stats_less_than_10=location_stats[location_stats<=10]\nlocation_stats_less_than_10",
      "metadata": {
        "trusted": true
      },
      "outputs": [
        {
          "execution_count": 38,
          "output_type": "execute_result",
          "data": {
            "text/plain": "location\nBasapura                 10\n1st Block Koramangala    10\nGunjur Palya             10\nKalkere                  10\nSector 1 HSR Layout      10\n                         ..\n1 Giri Nagar              1\nKanakapura Road,          1\nKanakapura main  Road     1\nKarnataka Shabarimala     1\nwhitefiled                1\nName: location, Length: 1052, dtype: int64"
          },
          "metadata": {}
        }
      ],
      "execution_count": 38
    },
    {
      "id": "cd513822-d6f4-496e-8392-899a71c692a2",
      "cell_type": "code",
      "source": "len(df5.location.unique())",
      "metadata": {
        "trusted": true
      },
      "outputs": [
        {
          "execution_count": 39,
          "output_type": "execute_result",
          "data": {
            "text/plain": "1293"
          },
          "metadata": {}
        }
      ],
      "execution_count": 39
    },
    {
      "id": "6261bc72-60b7-443e-91c2-1d879a46622e",
      "cell_type": "code",
      "source": "df5.location=df5.location.apply(lambda x: 'other' if x in location_stats_less_than_10 else x)",
      "metadata": {
        "trusted": true
      },
      "outputs": [],
      "execution_count": 40
    },
    {
      "id": "c8d62be8-b3cc-4102-bc70-4438aa64bc89",
      "cell_type": "code",
      "source": "df5.head(10)",
      "metadata": {
        "trusted": true
      },
      "outputs": [
        {
          "execution_count": 41,
          "output_type": "execute_result",
          "data": {
            "text/plain": "                   location       size  total_sqft  bath   price  bhk  \\\n0  Electronic City Phase II      2 BHK      1056.0   2.0   39.07    2   \n1          Chikka Tirupathi  4 Bedroom      2600.0   5.0  120.00    4   \n2               Uttarahalli      3 BHK      1440.0   2.0   62.00    3   \n3        Lingadheeranahalli      3 BHK      1521.0   3.0   95.00    3   \n4                  Kothanur      2 BHK      1200.0   2.0   51.00    2   \n5                Whitefield      2 BHK      1170.0   2.0   38.00    2   \n6          Old Airport Road      4 BHK      2732.0   4.0  204.00    4   \n7              Rajaji Nagar      4 BHK      3300.0   4.0  600.00    4   \n8              Marathahalli      3 BHK      1310.0   3.0   63.25    3   \n9                     other  6 Bedroom      1020.0   6.0  370.00    6   \n\n   price_per_sqft  \n0     3699.810606  \n1     4615.384615  \n2     4305.555556  \n3     6245.890861  \n4     4250.000000  \n5     3247.863248  \n6     7467.057101  \n7    18181.818182  \n8     4828.244275  \n9    36274.509804  ",
            "text/html": "<div>\n<style scoped>\n    .dataframe tbody tr th:only-of-type {\n        vertical-align: middle;\n    }\n\n    .dataframe tbody tr th {\n        vertical-align: top;\n    }\n\n    .dataframe thead th {\n        text-align: right;\n    }\n</style>\n<table border=\"1\" class=\"dataframe\">\n  <thead>\n    <tr style=\"text-align: right;\">\n      <th></th>\n      <th>location</th>\n      <th>size</th>\n      <th>total_sqft</th>\n      <th>bath</th>\n      <th>price</th>\n      <th>bhk</th>\n      <th>price_per_sqft</th>\n    </tr>\n  </thead>\n  <tbody>\n    <tr>\n      <th>0</th>\n      <td>Electronic City Phase II</td>\n      <td>2 BHK</td>\n      <td>1056.0</td>\n      <td>2.0</td>\n      <td>39.07</td>\n      <td>2</td>\n      <td>3699.810606</td>\n    </tr>\n    <tr>\n      <th>1</th>\n      <td>Chikka Tirupathi</td>\n      <td>4 Bedroom</td>\n      <td>2600.0</td>\n      <td>5.0</td>\n      <td>120.00</td>\n      <td>4</td>\n      <td>4615.384615</td>\n    </tr>\n    <tr>\n      <th>2</th>\n      <td>Uttarahalli</td>\n      <td>3 BHK</td>\n      <td>1440.0</td>\n      <td>2.0</td>\n      <td>62.00</td>\n      <td>3</td>\n      <td>4305.555556</td>\n    </tr>\n    <tr>\n      <th>3</th>\n      <td>Lingadheeranahalli</td>\n      <td>3 BHK</td>\n      <td>1521.0</td>\n      <td>3.0</td>\n      <td>95.00</td>\n      <td>3</td>\n      <td>6245.890861</td>\n    </tr>\n    <tr>\n      <th>4</th>\n      <td>Kothanur</td>\n      <td>2 BHK</td>\n      <td>1200.0</td>\n      <td>2.0</td>\n      <td>51.00</td>\n      <td>2</td>\n      <td>4250.000000</td>\n    </tr>\n    <tr>\n      <th>5</th>\n      <td>Whitefield</td>\n      <td>2 BHK</td>\n      <td>1170.0</td>\n      <td>2.0</td>\n      <td>38.00</td>\n      <td>2</td>\n      <td>3247.863248</td>\n    </tr>\n    <tr>\n      <th>6</th>\n      <td>Old Airport Road</td>\n      <td>4 BHK</td>\n      <td>2732.0</td>\n      <td>4.0</td>\n      <td>204.00</td>\n      <td>4</td>\n      <td>7467.057101</td>\n    </tr>\n    <tr>\n      <th>7</th>\n      <td>Rajaji Nagar</td>\n      <td>4 BHK</td>\n      <td>3300.0</td>\n      <td>4.0</td>\n      <td>600.00</td>\n      <td>4</td>\n      <td>18181.818182</td>\n    </tr>\n    <tr>\n      <th>8</th>\n      <td>Marathahalli</td>\n      <td>3 BHK</td>\n      <td>1310.0</td>\n      <td>3.0</td>\n      <td>63.25</td>\n      <td>3</td>\n      <td>4828.244275</td>\n    </tr>\n    <tr>\n      <th>9</th>\n      <td>other</td>\n      <td>6 Bedroom</td>\n      <td>1020.0</td>\n      <td>6.0</td>\n      <td>370.00</td>\n      <td>6</td>\n      <td>36274.509804</td>\n    </tr>\n  </tbody>\n</table>\n</div>"
          },
          "metadata": {}
        }
      ],
      "execution_count": 41
    },
    {
      "id": "bc99e629-b07e-472a-9c5c-93e131ab3494",
      "cell_type": "code",
      "source": "len(df5.location.unique())",
      "metadata": {
        "trusted": true
      },
      "outputs": [
        {
          "execution_count": 42,
          "output_type": "execute_result",
          "data": {
            "text/plain": "242"
          },
          "metadata": {}
        }
      ],
      "execution_count": 42
    },
    {
      "id": "9784e6ca-5974-4ddf-a918-347508a3e9ca",
      "cell_type": "code",
      "source": "df5[df5.total_sqft /df5.bhk <300 ].head()   #300 hota hai ek bedroom ka common size",
      "metadata": {
        "trusted": true
      },
      "outputs": [
        {
          "execution_count": 43,
          "output_type": "execute_result",
          "data": {
            "text/plain": "               location       size  total_sqft  bath  price  bhk  \\\n9                 other  6 Bedroom      1020.0   6.0  370.0    6   \n45           HSR Layout  8 Bedroom       600.0   9.0  200.0    8   \n58        Murugeshpalya  6 Bedroom      1407.0   4.0  150.0    6   \n68  Devarachikkanahalli  8 Bedroom      1350.0   7.0   85.0    8   \n70                other  3 Bedroom       500.0   3.0  100.0    3   \n\n    price_per_sqft  \n9     36274.509804  \n45    33333.333333  \n58    10660.980810  \n68     6296.296296  \n70    20000.000000  ",
            "text/html": "<div>\n<style scoped>\n    .dataframe tbody tr th:only-of-type {\n        vertical-align: middle;\n    }\n\n    .dataframe tbody tr th {\n        vertical-align: top;\n    }\n\n    .dataframe thead th {\n        text-align: right;\n    }\n</style>\n<table border=\"1\" class=\"dataframe\">\n  <thead>\n    <tr style=\"text-align: right;\">\n      <th></th>\n      <th>location</th>\n      <th>size</th>\n      <th>total_sqft</th>\n      <th>bath</th>\n      <th>price</th>\n      <th>bhk</th>\n      <th>price_per_sqft</th>\n    </tr>\n  </thead>\n  <tbody>\n    <tr>\n      <th>9</th>\n      <td>other</td>\n      <td>6 Bedroom</td>\n      <td>1020.0</td>\n      <td>6.0</td>\n      <td>370.0</td>\n      <td>6</td>\n      <td>36274.509804</td>\n    </tr>\n    <tr>\n      <th>45</th>\n      <td>HSR Layout</td>\n      <td>8 Bedroom</td>\n      <td>600.0</td>\n      <td>9.0</td>\n      <td>200.0</td>\n      <td>8</td>\n      <td>33333.333333</td>\n    </tr>\n    <tr>\n      <th>58</th>\n      <td>Murugeshpalya</td>\n      <td>6 Bedroom</td>\n      <td>1407.0</td>\n      <td>4.0</td>\n      <td>150.0</td>\n      <td>6</td>\n      <td>10660.980810</td>\n    </tr>\n    <tr>\n      <th>68</th>\n      <td>Devarachikkanahalli</td>\n      <td>8 Bedroom</td>\n      <td>1350.0</td>\n      <td>7.0</td>\n      <td>85.0</td>\n      <td>8</td>\n      <td>6296.296296</td>\n    </tr>\n    <tr>\n      <th>70</th>\n      <td>other</td>\n      <td>3 Bedroom</td>\n      <td>500.0</td>\n      <td>3.0</td>\n      <td>100.0</td>\n      <td>3</td>\n      <td>20000.000000</td>\n    </tr>\n  </tbody>\n</table>\n</div>"
          },
          "metadata": {}
        }
      ],
      "execution_count": 43
    },
    {
      "id": "c81b7860-bb72-4498-a7f1-cc3410720b48",
      "cell_type": "code",
      "source": "df5.shape",
      "metadata": {
        "trusted": true
      },
      "outputs": [
        {
          "execution_count": 44,
          "output_type": "execute_result",
          "data": {
            "text/plain": "(13246, 7)"
          },
          "metadata": {}
        }
      ],
      "execution_count": 44
    },
    {
      "id": "f32d6f44-beff-432f-b288-852fc3f8c41b",
      "cell_type": "code",
      "source": "df6=df5[~(df5.total_sqft /df5.bhk <300 )]",
      "metadata": {
        "trusted": true
      },
      "outputs": [],
      "execution_count": 45
    },
    {
      "id": "0a2c0070-9ba6-48a2-bc31-564f9944aafd",
      "cell_type": "code",
      "source": "df6.shape",
      "metadata": {
        "trusted": true
      },
      "outputs": [
        {
          "execution_count": 46,
          "output_type": "execute_result",
          "data": {
            "text/plain": "(12502, 7)"
          },
          "metadata": {}
        }
      ],
      "execution_count": 46
    },
    {
      "id": "4caab872-5f9c-4cdc-be0c-aca6981ae28a",
      "cell_type": "code",
      "source": "df6.price_per_sqft.describe()",
      "metadata": {
        "trusted": true
      },
      "outputs": [
        {
          "execution_count": 47,
          "output_type": "execute_result",
          "data": {
            "text/plain": "count     12456.000000\nmean       6308.513707\nstd        4168.123545\nmin         267.829813\n25%        4210.526316\n50%        5294.117647\n75%        6916.666667\nmax      176470.588235\nName: price_per_sqft, dtype: float64"
          },
          "metadata": {}
        }
      ],
      "execution_count": 47
    },
    {
      "id": "21712069-761f-4bf8-a95c-19a26287a101",
      "cell_type": "code",
      "source": "def remove_pps_outliers(df):\n    df_out=pd.DataFrame()\n    for key,subdf in df.groupby('location'): #key will be location us location vali rows mila k dataframe goes in subdf\n        m=np.mean(subdf.price_per_sqft)\n        st= np.std(subdf.price_per_sqft)\n        reduced_df=subdf[(subdf['price_per_sqft'] >(m-st))& (subdf['price_per_sqft'] <=(m+st))]\n        df_out=pd.concat([df_out,reduced_df],ignore_index=True)\n    return df_out\n\ndf7=remove_pps_outliers(df6)\ndf7.shape",
      "metadata": {
        "trusted": true
      },
      "outputs": [
        {
          "execution_count": 48,
          "output_type": "execute_result",
          "data": {
            "text/plain": "(10241, 7)"
          },
          "metadata": {}
        }
      ],
      "execution_count": 48
    },
    {
      "id": "7772f573-1cf3-45f0-b347-1e3268cd63c7",
      "cell_type": "code",
      "source": "def scatter_plot_chart(df,location):\n     bhk2 = df[(df.location == location )& (df.bhk==2)]\n     bhk3= df[(df.location== location) & (df.bhk ==3)]\n     matplotlib.rcParams['figure.figsize']=(15,10)\n     plt.scatter(bhk2.total_sqft , bhk2.price , color='blue', label='2 BHK',s=50 )\n     plt.scatter(bhk3.total_sqft, bhk3.price , color='green' , marker='+',label='3 BHK' ,s=50)\n     plt.xlabel('Total Square Feet Area')\n     plt.ylabel('Price Per Square Feet')\n     plt.title(location)\n     plt.legend()",
      "metadata": {
        "trusted": true
      },
      "outputs": [],
      "execution_count": 49
    },
    {
      "id": "dad7e145-47d4-4a38-b771-53c41051b0d5",
      "cell_type": "code",
      "source": "scatter_plot_chart(df7,\"Rajaji Nagar\")",
      "metadata": {
        "trusted": true
      },
      "outputs": [
        {
          "output_type": "display_data",
          "data": {
            "text/plain": "<Figure size 1500x1000 with 1 Axes>",
            "image/png": "[encoded data removed]"
          },
          "metadata": {}
        }
      ],
      "execution_count": 50
    },
    {
      "id": "8242b913-f4c0-40de-944b-521bb4c1e7bf",
      "cell_type": "code",
      "source": "scatter_plot_chart(df7,\"Uttarahalli\")",
      "metadata": {
        "trusted": true
      },
      "outputs": [
        {
          "output_type": "display_data",
          "data": {
            "text/plain": "<Figure size 1500x1000 with 1 Axes>",
            "image/png": "[encoded data removed]"
          },
          "metadata": {}
        }
      ],
      "execution_count": 52
    },
    {
      "id": "76ce63ec-074a-420d-963f-b1b100b8a12c",
      "cell_type": "code",
      "source": "def remove_bhk_outliers(df):\n    exclude_indices=np.array([])\n    for location ,location_df in df.groupby('location'):\n        bhk_stats={}\n        for bhk,bhk_df in location_df.groupby('bhk'):\n            bhk_stats[bhk]= {\n                'mean':np.mean(bhk_df.price_per_sqft),\n                'std': np.std(bhk_df.price_per_sqft),\n                'count':bhk_df.shape[0]\n            }\n        for bhk,bhk_df in location_df.groupby('bhk'):\n            stats=bhk_stats.get(bhk-1)\n            if stats and stats['count']>5:\n                exclude_indices=np.append(exclude_indices,bhk_df[bhk_df.price_per_sqft < (stats['mean'])].index.values)\n         \n    return df.drop(exclude_indices,axis='index')\n\n# def remove_bhk_outliers(df):\n#     bad_indices = []\n\n#     for loc, loc_df in df.groupby('location'):\n#         bhk_stats = {}\n\n#         for bhk, subdf in loc_df.groupby('bhk'):\n#             bhk_stats[bhk] = {\n#                 'mean': subdf['price_per_sqft'].mean(),\n#                 'std': subdf['price_per_sqft'].std(),\n#                 'count': len(subdf)\n#             }\n\n#         for bhk, subdf in loc_df.groupby('bhk'):\n#             lower_stats = bhk_stats.get(bhk - 1)\n#             if lower_stats and lower_stats['count'] > 5:\n#                 bad = subdf[subdf['price_per_sqft'] < lower_stats['mean']].index\n#                 bad_indices.extend(bad)\n\n#     return df.drop(bad_indices)\n\n\n\n",
      "metadata": {
        "trusted": true
      },
      "outputs": [],
      "execution_count": 68
    },
    {
      "id": "0341eaf2-b941-4e9b-852c-a0818b1ae0f5",
      "cell_type": "code",
      "source": "df8=remove_bhk_outliers(df7)\ndf8.shape",
      "metadata": {
        "trusted": true
      },
      "outputs": [
        {
          "execution_count": 69,
          "output_type": "execute_result",
          "data": {
            "text/plain": "(7329, 7)"
          },
          "metadata": {}
        }
      ],
      "execution_count": 71
    },
    {
      "id": "2ef719e5-8154-49b6-a47d-df078cbae31a",
      "cell_type": "code",
      "source": "scatter_plot_chart(df8,\"Rajaji Nagar\")",
      "metadata": {
        "trusted": true
      },
      "outputs": [
        {
          "output_type": "display_data",
          "data": {
            "text/plain": "<Figure size 1500x1000 with 1 Axes>",
            "image/png": "[encoded data removed]"
          },
          "metadata": {}
        }
      ],
      "execution_count": 73
    },
    {
      "id": "147fb7d6-a83c-4e07-a5a7-1b49a54e1673",
      "cell_type": "code",
      "source": "scatter_plot_chart(df8,\"Uttarahalli\")",
      "metadata": {
        "trusted": true
      },
      "outputs": [
        {
          "output_type": "display_data",
          "data": {
            "text/plain": "<Figure size 1500x1000 with 1 Axes>",
            "image/png": "[encoded data removed]"
          },
          "metadata": {}
        }
      ],
      "execution_count": 74
    },
    {
      "id": "127b505e-0778-4a4c-b30a-ec2e625218ee",
      "cell_type": "code",
      "source": "plt.hist(df8['price_per_sqft'],rwidth=0.5)\nplt.xlabel('price_per_sqft')\nplt.ylabel('count')\nplt.plot()",
      "metadata": {
        "trusted": true
      },
      "outputs": [
        {
          "execution_count": 77,
          "output_type": "execute_result",
          "data": {
            "text/plain": "[]"
          },
          "metadata": {}
        },
        {
          "output_type": "display_data",
          "data": {
            "text/plain": "<Figure size 1500x1000 with 1 Axes>",
            "image/png": "[encoded data removed]"
          },
          "metadata": {}
        }
      ],
      "execution_count": 79
    },
    {
      "id": "930e3d0c-6f49-41bf-8334-ebd2cdb5eada",
      "cell_type": "code",
      "source": "df8.head()",
      "metadata": {
        "trusted": true
      },
      "outputs": [
        {
          "execution_count": 78,
          "output_type": "execute_result",
          "data": {
            "text/plain": "              location   size  total_sqft  bath  price  bhk  price_per_sqft\n0  1st Block Jayanagar  4 BHK      2850.0   4.0  428.0    4    15017.543860\n1  1st Block Jayanagar  3 BHK      1630.0   3.0  194.0    3    11901.840491\n2  1st Block Jayanagar  3 BHK      1875.0   2.0  235.0    3    12533.333333\n3  1st Block Jayanagar  3 BHK      1200.0   2.0  130.0    3    10833.333333\n4  1st Block Jayanagar  2 BHK      1235.0   2.0  148.0    2    11983.805668",
            "text/html": "<div>\n<style scoped>\n    .dataframe tbody tr th:only-of-type {\n        vertical-align: middle;\n    }\n\n    .dataframe tbody tr th {\n        vertical-align: top;\n    }\n\n    .dataframe thead th {\n        text-align: right;\n    }\n</style>\n<table border=\"1\" class=\"dataframe\">\n  <thead>\n    <tr style=\"text-align: right;\">\n      <th></th>\n      <th>location</th>\n      <th>size</th>\n      <th>total_sqft</th>\n      <th>bath</th>\n      <th>price</th>\n      <th>bhk</th>\n      <th>price_per_sqft</th>\n    </tr>\n  </thead>\n  <tbody>\n    <tr>\n      <th>0</th>\n      <td>1st Block Jayanagar</td>\n      <td>4 BHK</td>\n      <td>2850.0</td>\n      <td>4.0</td>\n      <td>428.0</td>\n      <td>4</td>\n      <td>15017.543860</td>\n    </tr>\n    <tr>\n      <th>1</th>\n      <td>1st Block Jayanagar</td>\n      <td>3 BHK</td>\n      <td>1630.0</td>\n      <td>3.0</td>\n      <td>194.0</td>\n      <td>3</td>\n      <td>11901.840491</td>\n    </tr>\n    <tr>\n      <th>2</th>\n      <td>1st Block Jayanagar</td>\n      <td>3 BHK</td>\n      <td>1875.0</td>\n      <td>2.0</td>\n      <td>235.0</td>\n      <td>3</td>\n      <td>12533.333333</td>\n    </tr>\n    <tr>\n      <th>3</th>\n      <td>1st Block Jayanagar</td>\n      <td>3 BHK</td>\n      <td>1200.0</td>\n      <td>2.0</td>\n      <td>130.0</td>\n      <td>3</td>\n      <td>10833.333333</td>\n    </tr>\n    <tr>\n      <th>4</th>\n      <td>1st Block Jayanagar</td>\n      <td>2 BHK</td>\n      <td>1235.0</td>\n      <td>2.0</td>\n      <td>148.0</td>\n      <td>2</td>\n      <td>11983.805668</td>\n    </tr>\n  </tbody>\n</table>\n</div>"
          },
          "metadata": {}
        }
      ],
      "execution_count": 80
    },
    {
      "id": "87e4687e-0ba7-467f-b137-262e0717c8b7",
      "cell_type": "code",
      "source": "df8.bath.unique()",
      "metadata": {
        "trusted": true
      },
      "outputs": [
        {
          "execution_count": 79,
          "output_type": "execute_result",
          "data": {
            "text/plain": "array([ 4.,  3.,  2.,  5.,  8.,  1.,  6.,  7.,  9., 12., 16., 13.])"
          },
          "metadata": {}
        }
      ],
      "execution_count": 81
    },
    {
      "id": "f99cce78-ffc7-4a62-929a-be6ecefa11ba",
      "cell_type": "code",
      "source": "df8.bath >10",
      "metadata": {
        "trusted": true
      },
      "outputs": [
        {
          "execution_count": 80,
          "output_type": "execute_result",
          "data": {
            "text/plain": "0        False\n1        False\n2        False\n3        False\n4        False\n         ...  \n10232    False\n10233    False\n10236    False\n10237    False\n10240    False\nName: bath, Length: 7329, dtype: bool"
          },
          "metadata": {}
        }
      ],
      "execution_count": 82
    },
    {
      "id": "4535d0c7-1438-4e90-b1f2-5c78286d04b6",
      "cell_type": "code",
      "source": "df8[df8.bath>10]",
      "metadata": {
        "trusted": true
      },
      "outputs": [
        {
          "execution_count": 81,
          "output_type": "execute_result",
          "data": {
            "text/plain": "            location    size  total_sqft  bath  price  bhk  price_per_sqft\n5277  Neeladri Nagar  10 BHK      4000.0  12.0  160.0   10     4000.000000\n8486           other  10 BHK     12000.0  12.0  525.0   10     4375.000000\n8575           other  16 BHK     10000.0  16.0  550.0   16     5500.000000\n9308           other  11 BHK      6000.0  12.0  150.0   11     2500.000000\n9639           other  13 BHK      5425.0  13.0  275.0   13     5069.124424",
            "text/html": "<div>\n<style scoped>\n    .dataframe tbody tr th:only-of-type {\n        vertical-align: middle;\n    }\n\n    .dataframe tbody tr th {\n        vertical-align: top;\n    }\n\n    .dataframe thead th {\n        text-align: right;\n    }\n</style>\n<table border=\"1\" class=\"dataframe\">\n  <thead>\n    <tr style=\"text-align: right;\">\n      <th></th>\n      <th>location</th>\n      <th>size</th>\n      <th>total_sqft</th>\n      <th>bath</th>\n      <th>price</th>\n      <th>bhk</th>\n      <th>price_per_sqft</th>\n    </tr>\n  </thead>\n  <tbody>\n    <tr>\n      <th>5277</th>\n      <td>Neeladri Nagar</td>\n      <td>10 BHK</td>\n      <td>4000.0</td>\n      <td>12.0</td>\n      <td>160.0</td>\n      <td>10</td>\n      <td>4000.000000</td>\n    </tr>\n    <tr>\n      <th>8486</th>\n      <td>other</td>\n      <td>10 BHK</td>\n      <td>12000.0</td>\n      <td>12.0</td>\n      <td>525.0</td>\n      <td>10</td>\n      <td>4375.000000</td>\n    </tr>\n    <tr>\n      <th>8575</th>\n      <td>other</td>\n      <td>16 BHK</td>\n      <td>10000.0</td>\n      <td>16.0</td>\n      <td>550.0</td>\n      <td>16</td>\n      <td>5500.000000</td>\n    </tr>\n    <tr>\n      <th>9308</th>\n      <td>other</td>\n      <td>11 BHK</td>\n      <td>6000.0</td>\n      <td>12.0</td>\n      <td>150.0</td>\n      <td>11</td>\n      <td>2500.000000</td>\n    </tr>\n    <tr>\n      <th>9639</th>\n      <td>other</td>\n      <td>13 BHK</td>\n      <td>5425.0</td>\n      <td>13.0</td>\n      <td>275.0</td>\n      <td>13</td>\n      <td>5069.124424</td>\n    </tr>\n  </tbody>\n</table>\n</div>"
          },
          "metadata": {}
        }
      ],
      "execution_count": 83
    },
    {
      "id": "9fbd3e5f-97da-49c5-b2a8-c284959485ba",
      "cell_type": "code",
      "source": "df9=df8[df8.bath < df8.bhk+2]\ndf8.shape",
      "metadata": {
        "trusted": true
      },
      "outputs": [
        {
          "execution_count": 91,
          "output_type": "execute_result",
          "data": {
            "text/plain": "(7329, 7)"
          },
          "metadata": {}
        }
      ],
      "execution_count": 93
    },
    {
      "id": "38fc5e86-af49-4ea9-908c-c6965f41081d",
      "cell_type": "code",
      "source": "df9.shape",
      "metadata": {
        "trusted": true
      },
      "outputs": [
        {
          "execution_count": 92,
          "output_type": "execute_result",
          "data": {
            "text/plain": "(7251, 7)"
          },
          "metadata": {}
        }
      ],
      "execution_count": 94
    },
    {
      "id": "2c3f08b6-033a-494f-b7d3-4bc49f7bbb0e",
      "cell_type": "code",
      "source": "df10=df9.drop(['size','price_per_sqft'],axis=1)\ndf10.shape\n",
      "metadata": {
        "trusted": true
      },
      "outputs": [
        {
          "execution_count": 111,
          "output_type": "execute_result",
          "data": {
            "text/plain": "(7251, 5)"
          },
          "metadata": {}
        }
      ],
      "execution_count": 113
    },
    {
      "id": "d885b7d1-e51d-4bb4-95be-768d02b03204",
      "cell_type": "code",
      "source": "dummies=pd.get_dummies(df10['location'],dtype=int)\ndummies.drop('other',axis=1)",
      "metadata": {
        "trusted": true
      },
      "outputs": [
        {
          "execution_count": 126,
          "output_type": "execute_result",
          "data": {
            "text/plain": "       1st Block Jayanagar  1st Phase JP Nagar  2nd Phase Judicial Layout  \\\n0                        1                   0                          0   \n1                        1                   0                          0   \n2                        1                   0                          0   \n3                        1                   0                          0   \n4                        1                   0                          0   \n...                    ...                 ...                        ...   \n10232                    0                   0                          0   \n10233                    0                   0                          0   \n10236                    0                   0                          0   \n10237                    0                   0                          0   \n10240                    0                   0                          0   \n\n       2nd Stage Nagarbhavi  5th Block Hbr Layout  5th Phase JP Nagar  \\\n0                         0                     0                   0   \n1                         0                     0                   0   \n2                         0                     0                   0   \n3                         0                     0                   0   \n4                         0                     0                   0   \n...                     ...                   ...                 ...   \n10232                     0                     0                   0   \n10233                     0                     0                   0   \n10236                     0                     0                   0   \n10237                     0                     0                   0   \n10240                     0                     0                   0   \n\n       6th Phase JP Nagar  7th Phase JP Nagar  8th Phase JP Nagar  \\\n0                       0                   0                   0   \n1                       0                   0                   0   \n2                       0                   0                   0   \n3                       0                   0                   0   \n4                       0                   0                   0   \n...                   ...                 ...                 ...   \n10232                   0                   0                   0   \n10233                   0                   0                   0   \n10236                   0                   0                   0   \n10237                   0                   0                   0   \n10240                   0                   0                   0   \n\n       9th Phase JP Nagar  ...  Vijayanagar  Vishveshwarya Layout  \\\n0                       0  ...            0                     0   \n1                       0  ...            0                     0   \n2                       0  ...            0                     0   \n3                       0  ...            0                     0   \n4                       0  ...            0                     0   \n...                   ...  ...          ...                   ...   \n10232                   0  ...            0                     0   \n10233                   0  ...            0                     0   \n10236                   0  ...            0                     0   \n10237                   0  ...            0                     0   \n10240                   0  ...            0                     0   \n\n       Vishwapriya Layout  Vittasandra  Whitefield  Yelachenahalli  Yelahanka  \\\n0                       0            0           0               0          0   \n1                       0            0           0               0          0   \n2                       0            0           0               0          0   \n3                       0            0           0               0          0   \n4                       0            0           0               0          0   \n...                   ...          ...         ...             ...        ...   \n10232                   0            0           0               0          0   \n10233                   0            0           0               0          0   \n10236                   0            0           0               0          0   \n10237                   0            0           0               0          0   \n10240                   0            0           0               0          0   \n\n       Yelahanka New Town  Yelenahalli  Yeshwanthpur  \n0                       0            0             0  \n1                       0            0             0  \n2                       0            0             0  \n3                       0            0             0  \n4                       0            0             0  \n...                   ...          ...           ...  \n10232                   0            0             0  \n10233                   0            0             0  \n10236                   0            0             0  \n10237                   0            0             0  \n10240                   0            0             0  \n\n[7251 rows x 241 columns]",
            "text/html": "<div>\n<style scoped>\n    .dataframe tbody tr th:only-of-type {\n        vertical-align: middle;\n    }\n\n    .dataframe tbody tr th {\n        vertical-align: top;\n    }\n\n    .dataframe thead th {\n        text-align: right;\n    }\n</style>\n<table border=\"1\" class=\"dataframe\">\n  <thead>\n    <tr style=\"text-align: right;\">\n      <th></th>\n      <th>1st Block Jayanagar</th>\n      <th>1st Phase JP Nagar</th>\n      <th>2nd Phase Judicial Layout</th>\n      <th>2nd Stage Nagarbhavi</th>\n      <th>5th Block Hbr Layout</th>\n      <th>5th Phase JP Nagar</th>\n      <th>6th Phase JP Nagar</th>\n      <th>7th Phase JP Nagar</th>\n      <th>8th Phase JP Nagar</th>\n      <th>9th Phase JP Nagar</th>\n      <th>...</th>\n      <th>Vijayanagar</th>\n      <th>Vishveshwarya Layout</th>\n      <th>Vishwapriya Layout</th>\n      <th>Vittasandra</th>\n      <th>Whitefield</th>\n      <th>Yelachenahalli</th>\n      <th>Yelahanka</th>\n      <th>Yelahanka New Town</th>\n      <th>Yelenahalli</th>\n      <th>Yeshwanthpur</th>\n    </tr>\n  </thead>\n  <tbody>\n    <tr>\n      <th>0</th>\n      <td>1</td>\n      <td>0</td>\n      <td>0</td>\n      <td>0</td>\n      <td>0</td>\n      <td>0</td>\n      <td>0</td>\n      <td>0</td>\n      <td>0</td>\n      <td>0</td>\n      <td>...</td>\n      <td>0</td>\n      <td>0</td>\n      <td>0</td>\n      <td>0</td>\n      <td>0</td>\n      <td>0</td>\n      <td>0</td>\n      <td>0</td>\n      <td>0</td>\n      <td>0</td>\n    </tr>\n    <tr>\n      <th>1</th>\n      <td>1</td>\n      <td>0</td>\n      <td>0</td>\n      <td>0</td>\n      <td>0</td>\n      <td>0</td>\n      <td>0</td>\n      <td>0</td>\n      <td>0</td>\n      <td>0</td>\n      <td>...</td>\n      <td>0</td>\n      <td>0</td>\n      <td>0</td>\n      <td>0</td>\n      <td>0</td>\n      <td>0</td>\n      <td>0</td>\n      <td>0</td>\n      <td>0</td>\n      <td>0</td>\n    </tr>\n    <tr>\n      <th>2</th>\n      <td>1</td>\n      <td>0</td>\n      <td>0</td>\n      <td>0</td>\n      <td>0</td>\n      <td>0</td>\n      <td>0</td>\n      <td>0</td>\n      <td>0</td>\n      <td>0</td>\n      <td>...</td>\n      <td>0</td>\n      <td>0</td>\n      <td>0</td>\n      <td>0</td>\n      <td>0</td>\n      <td>0</td>\n      <td>0</td>\n      <td>0</td>\n      <td>0</td>\n      <td>0</td>\n    </tr>\n    <tr>\n      <th>3</th>\n      <td>1</td>\n      <td>0</td>\n      <td>0</td>\n      <td>0</td>\n      <td>0</td>\n      <td>0</td>\n      <td>0</td>\n      <td>0</td>\n      <td>0</td>\n      <td>0</td>\n      <td>...</td>\n      <td>0</td>\n      <td>0</td>\n      <td>0</td>\n      <td>0</td>\n      <td>0</td>\n      <td>0</td>\n      <td>0</td>\n      <td>0</td>\n      <td>0</td>\n      <td>0</td>\n    </tr>\n    <tr>\n      <th>4</th>\n      <td>1</td>\n      <td>0</td>\n      <td>0</td>\n      <td>0</td>\n      <td>0</td>\n      <td>0</td>\n      <td>0</td>\n      <td>0</td>\n      <td>0</td>\n      <td>0</td>\n      <td>...</td>\n      <td>0</td>\n      <td>0</td>\n      <td>0</td>\n      <td>0</td>\n      <td>0</td>\n      <td>0</td>\n      <td>0</td>\n      <td>0</td>\n      <td>0</td>\n      <td>0</td>\n    </tr>\n    <tr>\n      <th>...</th>\n      <td>...</td>\n      <td>...</td>\n      <td>...</td>\n      <td>...</td>\n      <td>...</td>\n      <td>...</td>\n      <td>...</td>\n      <td>...</td>\n      <td>...</td>\n      <td>...</td>\n      <td>...</td>\n      <td>...</td>\n      <td>...</td>\n      <td>...</td>\n      <td>...</td>\n      <td>...</td>\n      <td>...</td>\n      <td>...</td>\n      <td>...</td>\n      <td>...</td>\n      <td>...</td>\n    </tr>\n    <tr>\n      <th>10232</th>\n      <td>0</td>\n      <td>0</td>\n      <td>0</td>\n      <td>0</td>\n      <td>0</td>\n      <td>0</td>\n      <td>0</td>\n      <td>0</td>\n      <td>0</td>\n      <td>0</td>\n      <td>...</td>\n      <td>0</td>\n      <td>0</td>\n      <td>0</td>\n      <td>0</td>\n      <td>0</td>\n      <td>0</td>\n      <td>0</td>\n      <td>0</td>\n      <td>0</td>\n      <td>0</td>\n    </tr>\n    <tr>\n      <th>10233</th>\n      <td>0</td>\n      <td>0</td>\n      <td>0</td>\n      <td>0</td>\n      <td>0</td>\n      <td>0</td>\n      <td>0</td>\n      <td>0</td>\n      <td>0</td>\n      <td>0</td>\n      <td>...</td>\n      <td>0</td>\n      <td>0</td>\n      <td>0</td>\n      <td>0</td>\n      <td>0</td>\n      <td>0</td>\n      <td>0</td>\n      <td>0</td>\n      <td>0</td>\n      <td>0</td>\n    </tr>\n    <tr>\n      <th>10236</th>\n      <td>0</td>\n      <td>0</td>\n      <td>0</td>\n      <td>0</td>\n      <td>0</td>\n      <td>0</td>\n      <td>0</td>\n      <td>0</td>\n      <td>0</td>\n      <td>0</td>\n      <td>...</td>\n      <td>0</td>\n      <td>0</td>\n      <td>0</td>\n      <td>0</td>\n      <td>0</td>\n      <td>0</td>\n      <td>0</td>\n      <td>0</td>\n      <td>0</td>\n      <td>0</td>\n    </tr>\n    <tr>\n      <th>10237</th>\n      <td>0</td>\n      <td>0</td>\n      <td>0</td>\n      <td>0</td>\n      <td>0</td>\n      <td>0</td>\n      <td>0</td>\n      <td>0</td>\n      <td>0</td>\n      <td>0</td>\n      <td>...</td>\n      <td>0</td>\n      <td>0</td>\n      <td>0</td>\n      <td>0</td>\n      <td>0</td>\n      <td>0</td>\n      <td>0</td>\n      <td>0</td>\n      <td>0</td>\n      <td>0</td>\n    </tr>\n    <tr>\n      <th>10240</th>\n      <td>0</td>\n      <td>0</td>\n      <td>0</td>\n      <td>0</td>\n      <td>0</td>\n      <td>0</td>\n      <td>0</td>\n      <td>0</td>\n      <td>0</td>\n      <td>0</td>\n      <td>...</td>\n      <td>0</td>\n      <td>0</td>\n      <td>0</td>\n      <td>0</td>\n      <td>0</td>\n      <td>0</td>\n      <td>0</td>\n      <td>0</td>\n      <td>0</td>\n      <td>0</td>\n    </tr>\n  </tbody>\n</table>\n<p>7251 rows × 241 columns</p>\n</div>"
          },
          "metadata": {}
        }
      ],
      "execution_count": 128
    },
    {
      "id": "d5d4f8a5-6f6f-4a1a-8b73-f5745e0ecf82",
      "cell_type": "code",
      "source": "df10=df10.reset_index(drop=True)\ndummies=dummies.reset_index(drop=True)",
      "metadata": {
        "trusted": true
      },
      "outputs": [],
      "execution_count": 129
    },
    {
      "id": "a4c8b0c9-cecc-4ec3-b7a1-ce14d9f640ec",
      "cell_type": "code",
      "source": "df11=pd.concat([df10,dummies],axis=1)\ndf11.head()",
      "metadata": {
        "trusted": true
      },
      "outputs": [
        {
          "execution_count": 128,
          "output_type": "execute_result",
          "data": {
            "text/plain": "              location  total_sqft  bath  price  bhk  1st Block Jayanagar  \\\n0  1st Block Jayanagar      2850.0   4.0  428.0    4                    1   \n1  1st Block Jayanagar      1630.0   3.0  194.0    3                    1   \n2  1st Block Jayanagar      1875.0   2.0  235.0    3                    1   \n3  1st Block Jayanagar      1200.0   2.0  130.0    3                    1   \n4  1st Block Jayanagar      1235.0   2.0  148.0    2                    1   \n\n   1st Phase JP Nagar  2nd Phase Judicial Layout  2nd Stage Nagarbhavi  \\\n0                   0                          0                     0   \n1                   0                          0                     0   \n2                   0                          0                     0   \n3                   0                          0                     0   \n4                   0                          0                     0   \n\n   5th Block Hbr Layout  ...  Vishveshwarya Layout  Vishwapriya Layout  \\\n0                     0  ...                     0                   0   \n1                     0  ...                     0                   0   \n2                     0  ...                     0                   0   \n3                     0  ...                     0                   0   \n4                     0  ...                     0                   0   \n\n   Vittasandra  Whitefield  Yelachenahalli  Yelahanka  Yelahanka New Town  \\\n0            0           0               0          0                   0   \n1            0           0               0          0                   0   \n2            0           0               0          0                   0   \n3            0           0               0          0                   0   \n4            0           0               0          0                   0   \n\n   Yelenahalli  Yeshwanthpur  other  \n0            0             0      0  \n1            0             0      0  \n2            0             0      0  \n3            0             0      0  \n4            0             0      0  \n\n[5 rows x 247 columns]",
            "text/html": "<div>\n<style scoped>\n    .dataframe tbody tr th:only-of-type {\n        vertical-align: middle;\n    }\n\n    .dataframe tbody tr th {\n        vertical-align: top;\n    }\n\n    .dataframe thead th {\n        text-align: right;\n    }\n</style>\n<table border=\"1\" class=\"dataframe\">\n  <thead>\n    <tr style=\"text-align: right;\">\n      <th></th>\n      <th>location</th>\n      <th>total_sqft</th>\n      <th>bath</th>\n      <th>price</th>\n      <th>bhk</th>\n      <th>1st Block Jayanagar</th>\n      <th>1st Phase JP Nagar</th>\n      <th>2nd Phase Judicial Layout</th>\n      <th>2nd Stage Nagarbhavi</th>\n      <th>5th Block Hbr Layout</th>\n      <th>...</th>\n      <th>Vishveshwarya Layout</th>\n      <th>Vishwapriya Layout</th>\n      <th>Vittasandra</th>\n      <th>Whitefield</th>\n      <th>Yelachenahalli</th>\n      <th>Yelahanka</th>\n      <th>Yelahanka New Town</th>\n      <th>Yelenahalli</th>\n      <th>Yeshwanthpur</th>\n      <th>other</th>\n    </tr>\n  </thead>\n  <tbody>\n    <tr>\n      <th>0</th>\n      <td>1st Block Jayanagar</td>\n      <td>2850.0</td>\n      <td>4.0</td>\n      <td>428.0</td>\n      <td>4</td>\n      <td>1</td>\n      <td>0</td>\n      <td>0</td>\n      <td>0</td>\n      <td>0</td>\n      <td>...</td>\n      <td>0</td>\n      <td>0</td>\n      <td>0</td>\n      <td>0</td>\n      <td>0</td>\n      <td>0</td>\n      <td>0</td>\n      <td>0</td>\n      <td>0</td>\n      <td>0</td>\n    </tr>\n    <tr>\n      <th>1</th>\n      <td>1st Block Jayanagar</td>\n      <td>1630.0</td>\n      <td>3.0</td>\n      <td>194.0</td>\n      <td>3</td>\n      <td>1</td>\n      <td>0</td>\n      <td>0</td>\n      <td>0</td>\n      <td>0</td>\n      <td>...</td>\n      <td>0</td>\n      <td>0</td>\n      <td>0</td>\n      <td>0</td>\n      <td>0</td>\n      <td>0</td>\n      <td>0</td>\n      <td>0</td>\n      <td>0</td>\n      <td>0</td>\n    </tr>\n    <tr>\n      <th>2</th>\n      <td>1st Block Jayanagar</td>\n      <td>1875.0</td>\n      <td>2.0</td>\n      <td>235.0</td>\n      <td>3</td>\n      <td>1</td>\n      <td>0</td>\n      <td>0</td>\n      <td>0</td>\n      <td>0</td>\n      <td>...</td>\n      <td>0</td>\n      <td>0</td>\n      <td>0</td>\n      <td>0</td>\n      <td>0</td>\n      <td>0</td>\n      <td>0</td>\n      <td>0</td>\n      <td>0</td>\n      <td>0</td>\n    </tr>\n    <tr>\n      <th>3</th>\n      <td>1st Block Jayanagar</td>\n      <td>1200.0</td>\n      <td>2.0</td>\n      <td>130.0</td>\n      <td>3</td>\n      <td>1</td>\n      <td>0</td>\n      <td>0</td>\n      <td>0</td>\n      <td>0</td>\n      <td>...</td>\n      <td>0</td>\n      <td>0</td>\n      <td>0</td>\n      <td>0</td>\n      <td>0</td>\n      <td>0</td>\n      <td>0</td>\n      <td>0</td>\n      <td>0</td>\n      <td>0</td>\n    </tr>\n    <tr>\n      <th>4</th>\n      <td>1st Block Jayanagar</td>\n      <td>1235.0</td>\n      <td>2.0</td>\n      <td>148.0</td>\n      <td>2</td>\n      <td>1</td>\n      <td>0</td>\n      <td>0</td>\n      <td>0</td>\n      <td>0</td>\n      <td>...</td>\n      <td>0</td>\n      <td>0</td>\n      <td>0</td>\n      <td>0</td>\n      <td>0</td>\n      <td>0</td>\n      <td>0</td>\n      <td>0</td>\n      <td>0</td>\n      <td>0</td>\n    </tr>\n  </tbody>\n</table>\n<p>5 rows × 247 columns</p>\n</div>"
          },
          "metadata": {}
        }
      ],
      "execution_count": 130
    },
    {
      "id": "b5073d78-2017-4703-802c-4f3e0f1c0c50",
      "cell_type": "code",
      "source": "df11.isnull().sum()",
      "metadata": {
        "trusted": true
      },
      "outputs": [
        {
          "execution_count": 129,
          "output_type": "execute_result",
          "data": {
            "text/plain": "location              0\ntotal_sqft            0\nbath                  0\nprice                 0\nbhk                   0\n                     ..\nYelahanka             0\nYelahanka New Town    0\nYelenahalli           0\nYeshwanthpur          0\nother                 0\nLength: 247, dtype: int64"
          },
          "metadata": {}
        }
      ],
      "execution_count": 131
    },
    {
      "id": "266b9ddb-ac46-4eb1-8b2f-5de642330636",
      "cell_type": "code",
      "source": "df12=df11.drop('location',axis='columns')\ndf12.shape",
      "metadata": {
        "trusted": true
      },
      "outputs": [
        {
          "execution_count": 130,
          "output_type": "execute_result",
          "data": {
            "text/plain": "(7251, 246)"
          },
          "metadata": {}
        }
      ],
      "execution_count": 132
    },
    {
      "id": "85bab18e-8eaa-4b9c-a1d7-61357fb7f3d5",
      "cell_type": "code",
      "source": "df12.head(2)",
      "metadata": {
        "trusted": true
      },
      "outputs": [
        {
          "execution_count": 131,
          "output_type": "execute_result",
          "data": {
            "text/plain": "   total_sqft  bath  price  bhk  1st Block Jayanagar  1st Phase JP Nagar  \\\n0      2850.0   4.0  428.0    4                    1                   0   \n1      1630.0   3.0  194.0    3                    1                   0   \n\n   2nd Phase Judicial Layout  2nd Stage Nagarbhavi  5th Block Hbr Layout  \\\n0                          0                     0                     0   \n1                          0                     0                     0   \n\n   5th Phase JP Nagar  ...  Vishveshwarya Layout  Vishwapriya Layout  \\\n0                   0  ...                     0                   0   \n1                   0  ...                     0                   0   \n\n   Vittasandra  Whitefield  Yelachenahalli  Yelahanka  Yelahanka New Town  \\\n0            0           0               0          0                   0   \n1            0           0               0          0                   0   \n\n   Yelenahalli  Yeshwanthpur  other  \n0            0             0      0  \n1            0             0      0  \n\n[2 rows x 246 columns]",
            "text/html": "<div>\n<style scoped>\n    .dataframe tbody tr th:only-of-type {\n        vertical-align: middle;\n    }\n\n    .dataframe tbody tr th {\n        vertical-align: top;\n    }\n\n    .dataframe thead th {\n        text-align: right;\n    }\n</style>\n<table border=\"1\" class=\"dataframe\">\n  <thead>\n    <tr style=\"text-align: right;\">\n      <th></th>\n      <th>total_sqft</th>\n      <th>bath</th>\n      <th>price</th>\n      <th>bhk</th>\n      <th>1st Block Jayanagar</th>\n      <th>1st Phase JP Nagar</th>\n      <th>2nd Phase Judicial Layout</th>\n      <th>2nd Stage Nagarbhavi</th>\n      <th>5th Block Hbr Layout</th>\n      <th>5th Phase JP Nagar</th>\n      <th>...</th>\n      <th>Vishveshwarya Layout</th>\n      <th>Vishwapriya Layout</th>\n      <th>Vittasandra</th>\n      <th>Whitefield</th>\n      <th>Yelachenahalli</th>\n      <th>Yelahanka</th>\n      <th>Yelahanka New Town</th>\n      <th>Yelenahalli</th>\n      <th>Yeshwanthpur</th>\n      <th>other</th>\n    </tr>\n  </thead>\n  <tbody>\n    <tr>\n      <th>0</th>\n      <td>2850.0</td>\n      <td>4.0</td>\n      <td>428.0</td>\n      <td>4</td>\n      <td>1</td>\n      <td>0</td>\n      <td>0</td>\n      <td>0</td>\n      <td>0</td>\n      <td>0</td>\n      <td>...</td>\n      <td>0</td>\n      <td>0</td>\n      <td>0</td>\n      <td>0</td>\n      <td>0</td>\n      <td>0</td>\n      <td>0</td>\n      <td>0</td>\n      <td>0</td>\n      <td>0</td>\n    </tr>\n    <tr>\n      <th>1</th>\n      <td>1630.0</td>\n      <td>3.0</td>\n      <td>194.0</td>\n      <td>3</td>\n      <td>1</td>\n      <td>0</td>\n      <td>0</td>\n      <td>0</td>\n      <td>0</td>\n      <td>0</td>\n      <td>...</td>\n      <td>0</td>\n      <td>0</td>\n      <td>0</td>\n      <td>0</td>\n      <td>0</td>\n      <td>0</td>\n      <td>0</td>\n      <td>0</td>\n      <td>0</td>\n      <td>0</td>\n    </tr>\n  </tbody>\n</table>\n<p>2 rows × 246 columns</p>\n</div>"
          },
          "metadata": {}
        }
      ],
      "execution_count": 133
    },
    {
      "id": "da86cf2a-33af-486c-a89d-a61343bf1b25",
      "cell_type": "code",
      "source": "X=df12.drop(['price'],axis=1)",
      "metadata": {
        "trusted": true
      },
      "outputs": [],
      "execution_count": 135
    },
    {
      "id": "74464ab0-be32-4ee5-9b6b-fad3a12bca38",
      "cell_type": "code",
      "source": "Y=df12.price",
      "metadata": {
        "trusted": true
      },
      "outputs": [],
      "execution_count": 136
    },
    {
      "id": "a0927644-b898-4ae1-938c-2db08144f147",
      "cell_type": "code",
      "source": "from sklearn.model_selection import train_test_split",
      "metadata": {
        "trusted": true
      },
      "outputs": [],
      "execution_count": 137
    },
    {
      "id": "e22f8b86-c0ad-46a7-a552-aca62170fd58",
      "cell_type": "code",
      "source": "X_train,X_test,Y_train,Y_test= train_test_split(X,Y,test_size=0.2,random_state=10)",
      "metadata": {
        "trusted": true
      },
      "outputs": [],
      "execution_count": 138
    },
    {
      "id": "df532119-81bb-45ad-94d0-cc51a247d257",
      "cell_type": "code",
      "source": "from sklearn.linear_model import LinearRegression\n",
      "metadata": {
        "trusted": true
      },
      "outputs": [],
      "execution_count": 140
    },
    {
      "id": "9238353f-985d-44e3-9f61-6798dff098e8",
      "cell_type": "code",
      "source": "lr=LinearRegression()",
      "metadata": {
        "trusted": true
      },
      "outputs": [],
      "execution_count": 141
    },
    {
      "id": "8e8377c8-141b-4182-873a-ff4646026e4b",
      "cell_type": "code",
      "source": "lr.fit(X_train,Y_train)\n",
      "metadata": {
        "trusted": true
      },
      "outputs": [
        {
          "execution_count": 140,
          "output_type": "execute_result",
          "data": {
            "text/plain": "LinearRegression()",
            "text/html": "<style>#sk-container-id-1 {\n  /* Definition of color scheme common for light and dark mode */\n  --sklearn-color-text: black;\n  --sklearn-color-line: gray;\n  /* Definition of color scheme for unfitted estimators */\n  --sklearn-color-unfitted-level-0: #fff5e6;\n  --sklearn-color-unfitted-level-1: #f6e4d2;\n  --sklearn-color-unfitted-level-2: #ffe0b3;\n  --sklearn-color-unfitted-level-3: chocolate;\n  /* Definition of color scheme for fitted estimators */\n  --sklearn-color-fitted-level-0: #f0f8ff;\n  --sklearn-color-fitted-level-1: #d4ebff;\n  --sklearn-color-fitted-level-2: #b3dbfd;\n  --sklearn-color-fitted-level-3: cornflowerblue;\n\n  /* Specific color for light theme */\n  --sklearn-color-text-on-default-background: var(--sg-text-color, var(--theme-code-foreground, var(--jp-content-font-color1, black)));\n  --sklearn-color-background: var(--sg-background-color, var(--theme-background, var(--jp-layout-color0, white)));\n  --sklearn-color-border-box: var(--sg-text-color, var(--theme-code-foreground, var(--jp-content-font-color1, black)));\n  --sklearn-color-icon: #696969;\n\n  @media (prefers-color-scheme: dark) {\n    /* Redefinition of color scheme for dark theme */\n    --sklearn-color-text-on-default-background: var(--sg-text-color, var(--theme-code-foreground, var(--jp-content-font-color1, white)));\n    --sklearn-color-background: var(--sg-background-color, var(--theme-background, var(--jp-layout-color0, #111)));\n    --sklearn-color-border-box: var(--sg-text-color, var(--theme-code-foreground, var(--jp-content-font-color1, white)));\n    --sklearn-color-icon: #878787;\n  }\n}\n\n#sk-container-id-1 {\n  color: var(--sklearn-color-text);\n}\n\n#sk-container-id-1 pre {\n  padding: 0;\n}\n\n#sk-container-id-1 input.sk-hidden--visually {\n  border: 0;\n  clip: rect(1px 1px 1px 1px);\n  clip: rect(1px, 1px, 1px, 1px);\n  height: 1px;\n  margin: -1px;\n  overflow: hidden;\n  padding: 0;\n  position: absolute;\n  width: 1px;\n}\n\n#sk-container-id-1 div.sk-dashed-wrapped {\n  border: 1px dashed var(--sklearn-color-line);\n  margin: 0 0.4em 0.5em 0.4em;\n  box-sizing: border-box;\n  padding-bottom: 0.4em;\n  background-color: var(--sklearn-color-background);\n}\n\n#sk-container-id-1 div.sk-container {\n  /* jupyter's `normalize.less` sets `[hidden] { display: none; }`\n     but bootstrap.min.css set `[hidden] { display: none !important; }`\n     so we also need the `!important` here to be able to override the\n     default hidden behavior on the sphinx rendered scikit-learn.org.\n     See: https://github.com/scikit-learn/scikit-learn/issues/21755 */\n  display: inline-block !important;\n  position: relative;\n}\n\n#sk-container-id-1 div.sk-text-repr-fallback {\n  display: none;\n}\n\ndiv.sk-parallel-item,\ndiv.sk-serial,\ndiv.sk-item {\n  /* draw centered vertical line to link estimators */\n  background-image: linear-gradient(var(--sklearn-color-text-on-default-background), var(--sklearn-color-text-on-default-background));\n  background-size: 2px 100%;\n  background-repeat: no-repeat;\n  background-position: center center;\n}\n\n/* Parallel-specific style estimator block */\n\n#sk-container-id-1 div.sk-parallel-item::after {\n  content: \"\";\n  width: 100%;\n  border-bottom: 2px solid var(--sklearn-color-text-on-default-background);\n  flex-grow: 1;\n}\n\n#sk-container-id-1 div.sk-parallel {\n  display: flex;\n  align-items: stretch;\n  justify-content: center;\n  background-color: var(--sklearn-color-background);\n  position: relative;\n}\n\n#sk-container-id-1 div.sk-parallel-item {\n  display: flex;\n  flex-direction: column;\n}\n\n#sk-container-id-1 div.sk-parallel-item:first-child::after {\n  align-self: flex-end;\n  width: 50%;\n}\n\n#sk-container-id-1 div.sk-parallel-item:last-child::after {\n  align-self: flex-start;\n  width: 50%;\n}\n\n#sk-container-id-1 div.sk-parallel-item:only-child::after {\n  width: 0;\n}\n\n/* Serial-specific style estimator block */\n\n#sk-container-id-1 div.sk-serial {\n  display: flex;\n  flex-direction: column;\n  align-items: center;\n  background-color: var(--sklearn-color-background);\n  padding-right: 1em;\n  padding-left: 1em;\n}\n\n\n/* Toggleable style: style used for estimator/Pipeline/ColumnTransformer box that is\nclickable and can be expanded/collapsed.\n- Pipeline and ColumnTransformer use this feature and define the default style\n- Estimators will overwrite some part of the style using the `sk-estimator` class\n*/\n\n/* Pipeline and ColumnTransformer style (default) */\n\n#sk-container-id-1 div.sk-toggleable {\n  /* Default theme specific background. It is overwritten whether we have a\n  specific estimator or a Pipeline/ColumnTransformer */\n  background-color: var(--sklearn-color-background);\n}\n\n/* Toggleable label */\n#sk-container-id-1 label.sk-toggleable__label {\n  cursor: pointer;\n  display: block;\n  width: 100%;\n  margin-bottom: 0;\n  padding: 0.5em;\n  box-sizing: border-box;\n  text-align: center;\n}\n\n#sk-container-id-1 label.sk-toggleable__label-arrow:before {\n  /* Arrow on the left of the label */\n  content: \"▸\";\n  float: left;\n  margin-right: 0.25em;\n  color: var(--sklearn-color-icon);\n}\n\n#sk-container-id-1 label.sk-toggleable__label-arrow:hover:before {\n  color: var(--sklearn-color-text);\n}\n\n/* Toggleable content - dropdown */\n\n#sk-container-id-1 div.sk-toggleable__content {\n  max-height: 0;\n  max-width: 0;\n  overflow: hidden;\n  text-align: left;\n  /* unfitted */\n  background-color: var(--sklearn-color-unfitted-level-0);\n}\n\n#sk-container-id-1 div.sk-toggleable__content.fitted {\n  /* fitted */\n  background-color: var(--sklearn-color-fitted-level-0);\n}\n\n#sk-container-id-1 div.sk-toggleable__content pre {\n  margin: 0.2em;\n  border-radius: 0.25em;\n  color: var(--sklearn-color-text);\n  /* unfitted */\n  background-color: var(--sklearn-color-unfitted-level-0);\n}\n\n#sk-container-id-1 div.sk-toggleable__content.fitted pre {\n  /* unfitted */\n  background-color: var(--sklearn-color-fitted-level-0);\n}\n\n#sk-container-id-1 input.sk-toggleable__control:checked~div.sk-toggleable__content {\n  /* Expand drop-down */\n  max-height: 200px;\n  max-width: 100%;\n  overflow: auto;\n}\n\n#sk-container-id-1 input.sk-toggleable__control:checked~label.sk-toggleable__label-arrow:before {\n  content: \"▾\";\n}\n\n/* Pipeline/ColumnTransformer-specific style */\n\n#sk-container-id-1 div.sk-label input.sk-toggleable__control:checked~label.sk-toggleable__label {\n  color: var(--sklearn-color-text);\n  background-color: var(--sklearn-color-unfitted-level-2);\n}\n\n#sk-container-id-1 div.sk-label.fitted input.sk-toggleable__control:checked~label.sk-toggleable__label {\n  background-color: var(--sklearn-color-fitted-level-2);\n}\n\n/* Estimator-specific style */\n\n/* Colorize estimator box */\n#sk-container-id-1 div.sk-estimator input.sk-toggleable__control:checked~label.sk-toggleable__label {\n  /* unfitted */\n  background-color: var(--sklearn-color-unfitted-level-2);\n}\n\n#sk-container-id-1 div.sk-estimator.fitted input.sk-toggleable__control:checked~label.sk-toggleable__label {\n  /* fitted */\n  background-color: var(--sklearn-color-fitted-level-2);\n}\n\n#sk-container-id-1 div.sk-label label.sk-toggleable__label,\n#sk-container-id-1 div.sk-label label {\n  /* The background is the default theme color */\n  color: var(--sklearn-color-text-on-default-background);\n}\n\n/* On hover, darken the color of the background */\n#sk-container-id-1 div.sk-label:hover label.sk-toggleable__label {\n  color: var(--sklearn-color-text);\n  background-color: var(--sklearn-color-unfitted-level-2);\n}\n\n/* Label box, darken color on hover, fitted */\n#sk-container-id-1 div.sk-label.fitted:hover label.sk-toggleable__label.fitted {\n  color: var(--sklearn-color-text);\n  background-color: var(--sklearn-color-fitted-level-2);\n}\n\n/* Estimator label */\n\n#sk-container-id-1 div.sk-label label {\n  font-family: monospace;\n  font-weight: bold;\n  display: inline-block;\n  line-height: 1.2em;\n}\n\n#sk-container-id-1 div.sk-label-container {\n  text-align: center;\n}\n\n/* Estimator-specific */\n#sk-container-id-1 div.sk-estimator {\n  font-family: monospace;\n  border: 1px dotted var(--sklearn-color-border-box);\n  border-radius: 0.25em;\n  box-sizing: border-box;\n  margin-bottom: 0.5em;\n  /* unfitted */\n  background-color: var(--sklearn-color-unfitted-level-0);\n}\n\n#sk-container-id-1 div.sk-estimator.fitted {\n  /* fitted */\n  background-color: var(--sklearn-color-fitted-level-0);\n}\n\n/* on hover */\n#sk-container-id-1 div.sk-estimator:hover {\n  /* unfitted */\n  background-color: var(--sklearn-color-unfitted-level-2);\n}\n\n#sk-container-id-1 div.sk-estimator.fitted:hover {\n  /* fitted */\n  background-color: var(--sklearn-color-fitted-level-2);\n}\n\n/* Specification for estimator info (e.g. \"i\" and \"?\") */\n\n/* Common style for \"i\" and \"?\" */\n\n.sk-estimator-doc-link,\na:link.sk-estimator-doc-link,\na:visited.sk-estimator-doc-link {\n  float: right;\n  font-size: smaller;\n  line-height: 1em;\n  font-family: monospace;\n  background-color: var(--sklearn-color-background);\n  border-radius: 1em;\n  height: 1em;\n  width: 1em;\n  text-decoration: none !important;\n  margin-left: 1ex;\n  /* unfitted */\n  border: var(--sklearn-color-unfitted-level-1) 1pt solid;\n  color: var(--sklearn-color-unfitted-level-1);\n}\n\n.sk-estimator-doc-link.fitted,\na:link.sk-estimator-doc-link.fitted,\na:visited.sk-estimator-doc-link.fitted {\n  /* fitted */\n  border: var(--sklearn-color-fitted-level-1) 1pt solid;\n  color: var(--sklearn-color-fitted-level-1);\n}\n\n/* On hover */\ndiv.sk-estimator:hover .sk-estimator-doc-link:hover,\n.sk-estimator-doc-link:hover,\ndiv.sk-label-container:hover .sk-estimator-doc-link:hover,\n.sk-estimator-doc-link:hover {\n  /* unfitted */\n  background-color: var(--sklearn-color-unfitted-level-3);\n  color: var(--sklearn-color-background);\n  text-decoration: none;\n}\n\ndiv.sk-estimator.fitted:hover .sk-estimator-doc-link.fitted:hover,\n.sk-estimator-doc-link.fitted:hover,\ndiv.sk-label-container:hover .sk-estimator-doc-link.fitted:hover,\n.sk-estimator-doc-link.fitted:hover {\n  /* fitted */\n  background-color: var(--sklearn-color-fitted-level-3);\n  color: var(--sklearn-color-background);\n  text-decoration: none;\n}\n\n/* Span, style for the box shown on hovering the info icon */\n.sk-estimator-doc-link span {\n  display: none;\n  z-index: 9999;\n  position: relative;\n  font-weight: normal;\n  right: .2ex;\n  padding: .5ex;\n  margin: .5ex;\n  width: min-content;\n  min-width: 20ex;\n  max-width: 50ex;\n  color: var(--sklearn-color-text);\n  box-shadow: 2pt 2pt 4pt #999;\n  /* unfitted */\n  background: var(--sklearn-color-unfitted-level-0);\n  border: .5pt solid var(--sklearn-color-unfitted-level-3);\n}\n\n.sk-estimator-doc-link.fitted span {\n  /* fitted */\n  background: var(--sklearn-color-fitted-level-0);\n  border: var(--sklearn-color-fitted-level-3);\n}\n\n.sk-estimator-doc-link:hover span {\n  display: block;\n}\n\n/* \"?\"-specific style due to the `<a>` HTML tag */\n\n#sk-container-id-1 a.estimator_doc_link {\n  float: right;\n  font-size: 1rem;\n  line-height: 1em;\n  font-family: monospace;\n  background-color: var(--sklearn-color-background);\n  border-radius: 1rem;\n  height: 1rem;\n  width: 1rem;\n  text-decoration: none;\n  /* unfitted */\n  color: var(--sklearn-color-unfitted-level-1);\n  border: var(--sklearn-color-unfitted-level-1) 1pt solid;\n}\n\n#sk-container-id-1 a.estimator_doc_link.fitted {\n  /* fitted */\n  border: var(--sklearn-color-fitted-level-1) 1pt solid;\n  color: var(--sklearn-color-fitted-level-1);\n}\n\n/* On hover */\n#sk-container-id-1 a.estimator_doc_link:hover {\n  /* unfitted */\n  background-color: var(--sklearn-color-unfitted-level-3);\n  color: var(--sklearn-color-background);\n  text-decoration: none;\n}\n\n#sk-container-id-1 a.estimator_doc_link.fitted:hover {\n  /* fitted */\n  background-color: var(--sklearn-color-fitted-level-3);\n}\n</style><div id=\"sk-container-id-1\" class=\"sk-top-container\"><div class=\"sk-text-repr-fallback\"><pre>LinearRegression()</pre><b>In a Jupyter environment, please rerun this cell to show the HTML representation or trust the notebook. <br />On GitHub, the HTML representation is unable to render, please try loading this page with nbviewer.org.</b></div><div class=\"sk-container\" hidden><div class=\"sk-item\"><div class=\"sk-estimator fitted sk-toggleable\"><input class=\"sk-toggleable__control sk-hidden--visually\" id=\"sk-estimator-id-1\" type=\"checkbox\" checked><label for=\"sk-estimator-id-1\" class=\"sk-toggleable__label fitted sk-toggleable__label-arrow fitted\">&nbsp;&nbsp;LinearRegression<a class=\"sk-estimator-doc-link fitted\" rel=\"noreferrer\" target=\"_blank\" href=\"https://scikit-learn.org/1.5/modules/generated/sklearn.linear_model.LinearRegression.html\">?<span>Documentation for LinearRegression</span></a><span class=\"sk-estimator-doc-link fitted\">i<span>Fitted</span></span></label><div class=\"sk-toggleable__content fitted\"><pre>LinearRegression()</pre></div> </div></div></div></div>"
          },
          "metadata": {}
        }
      ],
      "execution_count": 142
    },
    {
      "id": "8bee3408-7909-4c85-a703-3c2233556eaa",
      "cell_type": "code",
      "source": "lr.score(X_test,Y_test)",
      "metadata": {
        "trusted": true
      },
      "outputs": [
        {
          "execution_count": 141,
          "output_type": "execute_result",
          "data": {
            "text/plain": "0.8452294733370058"
          },
          "metadata": {}
        }
      ],
      "execution_count": 143
    },
    {
      "id": "1f0744a1-0978-4b12-83c8-870632b50476",
      "cell_type": "code",
      "source": "from sklearn.model_selection import ShuffleSplit\nfrom sklearn.model_selection import cross_val_score\n\ncv=ShuffleSplit(n_splits=5,test_size=0.2,random_state=0)",
      "metadata": {
        "trusted": true
      },
      "outputs": [],
      "execution_count": 145
    },
    {
      "id": "a80f2220-340a-432e-82fe-c4220f51400a",
      "cell_type": "code",
      "source": "scoress=cross_val_score(LinearRegression(),X,Y,cv=cv)",
      "metadata": {
        "trusted": true
      },
      "outputs": [],
      "execution_count": 147
    },
    {
      "id": "dec5285d-e016-4bfd-be65-d3b14d287471",
      "cell_type": "code",
      "source": "scoress.mean()",
      "metadata": {
        "trusted": true
      },
      "outputs": [
        {
          "execution_count": 146,
          "output_type": "execute_result",
          "data": {
            "text/plain": "np.float64(0.8164654353187487)"
          },
          "metadata": {}
        }
      ],
      "execution_count": 148
    },
    {
      "id": "806e5390-9f43-4036-86cf-261fa9c76764",
      "cell_type": "code",
      "source": "from sklearn.model_selection import GridSearchCV\n\nfrom sklearn.tree import DecisionTreeRegressor\nfrom sklearn.linear_model import Lasso\n\ndef find_best_model_using_GridSearchCV(X,Y):\n    algos={ \n        'LinearRegression': {\n            'model' : LinearRegression(),\n            'params': {\n               'fit_intercept' :[True,False],\n                'positive':[True,False]\n            }\n},\n       'Lasso' : {\n           'model' :Lasso(),\n           'params':{\n               'alpha': [1,2] ,\n               'selection': ['random','cyclic']\n           }\n}, \n        'DecisiontreeRegressor': {\n            'model':DecisionTreeRegressor(),\n            'params': {\n                'splitter':['best','random'],\n                'criterion':['mse','friedman_mse']\n            }\n        }\n}\n    scores=[]\n    cv= ShuffleSplit(n_splits=5,test_size=0.2,random_state=0)\n    for algo_name,config in algos.items():\n        gs=GridSearchCV(config['model'],config['params'] ,cv=cv,return_train_score=False)\n        gs.fit(X,Y)\n        scores.append({\n            'model': algo_name,\n            'best_score': gs.best_score_ ,\n            'best_params': gs.best_params_\n        })\n    return pd.DataFrame(scores,columns=['model','best_score','best_params'])",
      "metadata": {
        "trusted": true
      },
      "outputs": [],
      "execution_count": 162
    },
    {
      "id": "ee84eb6a-3092-4a75-8a81-250bbf5300c1",
      "cell_type": "code",
      "source": "find_best_model_using_GridSearchCV(X,Y)",
      "metadata": {
        "trusted": true
      },
      "outputs": [
        {
          "name": "stderr",
          "output_type": "stream",
          "text": "/lib/python3.12/site-packages/sklearn/model_selection/_validation.py:540: FitFailedWarning: \n4 fits failed out of a total of 20.\nThe score on these train-test partitions for these parameters will be set to nan.\nIf these failures are not expected, you can try to debug them by setting error_score='raise'.\n\nBelow are more details about the failures:\n--------------------------------------------------------------------------------\n4 fits failed with the following error:\nTraceback (most recent call last):\n  File \"/lib/python3.12/site-packages/sklearn/model_selection/_validation.py\", line 888, in _fit_and_score\n    estimator.fit(X_train, y_train, **fit_params)\n  File \"/lib/python3.12/site-packages/sklearn/base.py\", line 1473, in wrapper\n    return fit_method(estimator, *args, **kwargs)\n           ^^^^^^^^^^^^^^^^^^^^^^^^^^^^^^^^^^^^^^\n  File \"/lib/python3.12/site-packages/sklearn/linear_model/_base.py\", line 647, in fit\n    self.coef_ = optimize.nnls(X, y)[0]\n                 ^^^^^^^^^^^^^^^^^^^\n  File \"/lib/python3.12/site-packages/scipy/optimize/_nnls.py\", line 93, in nnls\n    raise RuntimeError(\"Maximum number of iterations reached.\")\nRuntimeError: Maximum number of iterations reached.\n\n  warnings.warn(some_fits_failed_message, FitFailedWarning)\n/lib/python3.12/site-packages/sklearn/model_selection/_search.py:1103: UserWarning: One or more of the test scores are non-finite: [       nan 0.81646544 0.77704104 0.81835462]\n  warnings.warn(\n/lib/python3.12/site-packages/sklearn/model_selection/_validation.py:540: FitFailedWarning: \n10 fits failed out of a total of 20.\nThe score on these train-test partitions for these parameters will be set to nan.\nIf these failures are not expected, you can try to debug them by setting error_score='raise'.\n\nBelow are more details about the failures:\n--------------------------------------------------------------------------------\n10 fits failed with the following error:\nTraceback (most recent call last):\n  File \"/lib/python3.12/site-packages/sklearn/model_selection/_validation.py\", line 888, in _fit_and_score\n    estimator.fit(X_train, y_train, **fit_params)\n  File \"/lib/python3.12/site-packages/sklearn/base.py\", line 1466, in wrapper\n    estimator._validate_params()\n  File \"/lib/python3.12/site-packages/sklearn/base.py\", line 666, in _validate_params\n    validate_parameter_constraints(\n  File \"/lib/python3.12/site-packages/sklearn/utils/_param_validation.py\", line 95, in validate_parameter_constraints\n    raise InvalidParameterError(\nsklearn.utils._param_validation.InvalidParameterError: The 'criterion' parameter of DecisionTreeRegressor must be a str among {'friedman_mse', 'absolute_error', 'poisson', 'squared_error'}. Got 'mse' instead.\n\n  warnings.warn(some_fits_failed_message, FitFailedWarning)\n/lib/python3.12/site-packages/sklearn/model_selection/_search.py:1103: UserWarning: One or more of the test scores are non-finite: [       nan        nan 0.76871155 0.69663123]\n  warnings.warn(\n"
        },
        {
          "execution_count": 161,
          "output_type": "execute_result",
          "data": {
            "text/plain": "                   model  best_score  \\\n0       LinearRegression    0.818355   \n1                  Lasso    0.699294   \n2  DecisiontreeRegressor    0.768712   \n\n                                         best_params  \n0        {'fit_intercept': False, 'positive': False}  \n1                {'alpha': 1, 'selection': 'random'}  \n2  {'criterion': 'friedman_mse', 'splitter': 'best'}  ",
            "text/html": "<div>\n<style scoped>\n    .dataframe tbody tr th:only-of-type {\n        vertical-align: middle;\n    }\n\n    .dataframe tbody tr th {\n        vertical-align: top;\n    }\n\n    .dataframe thead th {\n        text-align: right;\n    }\n</style>\n<table border=\"1\" class=\"dataframe\">\n  <thead>\n    <tr style=\"text-align: right;\">\n      <th></th>\n      <th>model</th>\n      <th>best_score</th>\n      <th>best_params</th>\n    </tr>\n  </thead>\n  <tbody>\n    <tr>\n      <th>0</th>\n      <td>LinearRegression</td>\n      <td>0.818355</td>\n      <td>{'fit_intercept': False, 'positive': False}</td>\n    </tr>\n    <tr>\n      <th>1</th>\n      <td>Lasso</td>\n      <td>0.699294</td>\n      <td>{'alpha': 1, 'selection': 'random'}</td>\n    </tr>\n    <tr>\n      <th>2</th>\n      <td>DecisiontreeRegressor</td>\n      <td>0.768712</td>\n      <td>{'criterion': 'friedman_mse', 'splitter': 'best'}</td>\n    </tr>\n  </tbody>\n</table>\n</div>"
          },
          "metadata": {}
        }
      ],
      "execution_count": 163
    },
    {
      "id": "dc81f337-b90f-406a-94e7-59800d4df3ed",
      "cell_type": "code",
      "source": "#linear regression is best so hm vhi use krenge\ndef predict_price(location,bath,bhk,sqft):\n    loc_index=np.where(X.columns==location)[0][0]\n    x=np.zeros(len(X.columns))\n    x[0]=sqft\n    x[1]=bath\n    x[2]=bhk\n    if loc_index>=0:\n        x[loc_index]=1\n    return lr.predict([x])[0]   \n    ",
      "metadata": {
        "trusted": true
      },
      "outputs": [],
      "execution_count": 168
    },
    {
      "id": "79adb264-82f7-4fbe-918d-75242aa854cc",
      "cell_type": "code",
      "source": "predict_price('Rajaji Nagar',2,3,1000)",
      "metadata": {
        "trusted": true
      },
      "outputs": [
        {
          "name": "stderr",
          "output_type": "stream",
          "text": "/lib/python3.12/site-packages/sklearn/base.py:493: UserWarning: X does not have valid feature names, but LinearRegression was fitted with feature names\n  warnings.warn(\n"
        },
        {
          "execution_count": 167,
          "output_type": "execute_result",
          "data": {
            "text/plain": "np.float64(217.36778455651978)"
          },
          "metadata": {}
        }
      ],
      "execution_count": 169
    },
    {
      "id": "888ba5a6-ef3c-4812-97cb-89a9591462a2",
      "cell_type": "code",
      "source": "predict_price('Indira Nagar',2,2,800)",
      "metadata": {
        "trusted": true
      },
      "outputs": [
        {
          "name": "stderr",
          "output_type": "stream",
          "text": "/lib/python3.12/site-packages/sklearn/base.py:493: UserWarning: X does not have valid feature names, but LinearRegression was fitted with feature names\n  warnings.warn(\n"
        },
        {
          "execution_count": 169,
          "output_type": "execute_result",
          "data": {
            "text/plain": "np.float64(165.39512209899596)"
          },
          "metadata": {}
        }
      ],
      "execution_count": 171
    },
    {
      "id": "a51604db-0d34-4a98-bbb7-5be73e04bc32",
      "cell_type": "code",
      "source": "predict_price('Indira Nagar',2,3,1600)",
      "metadata": {
        "trusted": true
      },
      "outputs": [
        {
          "name": "stderr",
          "output_type": "stream",
          "text": "/lib/python3.12/site-packages/sklearn/base.py:493: UserWarning: X does not have valid feature names, but LinearRegression was fitted with feature names\n  warnings.warn(\n"
        },
        {
          "execution_count": 171,
          "output_type": "execute_result",
          "data": {
            "text/plain": "np.float64(227.1544106623499)"
          },
          "metadata": {}
        }
      ],
      "execution_count": 173
    },
    {
      "id": "6052cab0-9105-4b0a-80b5-f7f090a31dca",
      "cell_type": "code",
      "source": "import pickle\nwith open('bengaluru_model_ml.pickle','wb') as f:\n    pickle.dump(lr,f)",
      "metadata": {
        "trusted": true
      },
      "outputs": [],
      "execution_count": 175
    },
    {
      "id": "d383e55c-a416-4083-a3a8-08eec2ccc1e2",
      "cell_type": "code",
      "source": "import json\ncolumns={\n    'data_columns': [ col.lower() for col in X.columns]\n}\nwith open(\"columns.json\",\"w\") as f:\n    f.write(json.dumps(columns))",
      "metadata": {
        "trusted": true
      },
      "outputs": [],
      "execution_count": 176
    },
    {
      "id": "0ff5689a-5dc7-4f05-8f00-26c79fc7fa00",
      "cell_type": "code",
      "source": "",
      "metadata": {
        "trusted": true
      },
      "outputs": [],
      "execution_count": null
    },
    {
      "id": "75fe6fa6-60ed-47ea-ae5e-258d006e45d8",
      "cell_type": "code",
      "source": "",
      "metadata": {
        "trusted": true
      },
      "outputs": [],
      "execution_count": null
    },
    {
      "id": "387161ba-5770-4416-ad52-adc41ce7f1a9",
      "cell_type": "code",
      "source": "",
      "metadata": {
        "trusted": true
      },
      "outputs": [],
      "execution_count": null
    }
  ]
}